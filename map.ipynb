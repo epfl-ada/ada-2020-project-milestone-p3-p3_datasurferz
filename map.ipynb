{
 "cells": [
  {
   "cell_type": "code",
   "execution_count": 1,
   "metadata": {},
   "outputs": [],
   "source": [
    "import geopandas as gpd\n",
    "import pandas as pd\n",
    "import matplotlib.pyplot as plt\n",
    "import numpy as np"
   ]
  },
  {
   "cell_type": "markdown",
   "metadata": {},
   "source": [
    "Need additional librairies : \n",
    "* geopandas : https://geopandas.org/install.html\n",
    "* descartes : https://docs.descarteslabs.com/installation.html\n",
    "\n",
    "The following was heavily inspired from this tutorial : https://towardsdatascience.com/lets-make-a-map-using-geopandas-pandas-and-matplotlib-to-make-a-chloropleth-map-dddc31c1983d\n",
    "\n",
    "Additional data for the map creation : https://data.london.gov.uk/dataset/statistical-gis-boundary-files-london"
   ]
  },
  {
   "cell_type": "code",
   "execution_count": 5,
   "metadata": {},
   "outputs": [
    {
     "data": {
      "text/html": [
       "<div>\n",
       "<style scoped>\n",
       "    .dataframe tbody tr th:only-of-type {\n",
       "        vertical-align: middle;\n",
       "    }\n",
       "\n",
       "    .dataframe tbody tr th {\n",
       "        vertical-align: top;\n",
       "    }\n",
       "\n",
       "    .dataframe thead th {\n",
       "        text-align: right;\n",
       "    }\n",
       "</style>\n",
       "<table border=\"1\" class=\"dataframe\">\n",
       "  <thead>\n",
       "    <tr style=\"text-align: right;\">\n",
       "      <th></th>\n",
       "      <th>NAME</th>\n",
       "      <th>GSS_CODE</th>\n",
       "      <th>HECTARES</th>\n",
       "      <th>NONLD_AREA</th>\n",
       "      <th>ONS_INNER</th>\n",
       "      <th>SUB_2009</th>\n",
       "      <th>SUB_2006</th>\n",
       "      <th>geometry</th>\n",
       "    </tr>\n",
       "  </thead>\n",
       "  <tbody>\n",
       "    <tr>\n",
       "      <th>0</th>\n",
       "      <td>Kingston upon Thames</td>\n",
       "      <td>E09000021</td>\n",
       "      <td>3726.117</td>\n",
       "      <td>0.000</td>\n",
       "      <td>F</td>\n",
       "      <td>None</td>\n",
       "      <td>None</td>\n",
       "      <td>POLYGON ((516401.600 160201.800, 516407.300 16...</td>\n",
       "    </tr>\n",
       "    <tr>\n",
       "      <th>1</th>\n",
       "      <td>Croydon</td>\n",
       "      <td>E09000008</td>\n",
       "      <td>8649.441</td>\n",
       "      <td>0.000</td>\n",
       "      <td>F</td>\n",
       "      <td>None</td>\n",
       "      <td>None</td>\n",
       "      <td>POLYGON ((535009.200 159504.700, 535005.500 15...</td>\n",
       "    </tr>\n",
       "    <tr>\n",
       "      <th>2</th>\n",
       "      <td>Bromley</td>\n",
       "      <td>E09000006</td>\n",
       "      <td>15013.487</td>\n",
       "      <td>0.000</td>\n",
       "      <td>F</td>\n",
       "      <td>None</td>\n",
       "      <td>None</td>\n",
       "      <td>POLYGON ((540373.600 157530.400, 540361.200 15...</td>\n",
       "    </tr>\n",
       "    <tr>\n",
       "      <th>3</th>\n",
       "      <td>Hounslow</td>\n",
       "      <td>E09000018</td>\n",
       "      <td>5658.541</td>\n",
       "      <td>60.755</td>\n",
       "      <td>F</td>\n",
       "      <td>None</td>\n",
       "      <td>None</td>\n",
       "      <td>POLYGON ((521975.800 178100.000, 521967.700 17...</td>\n",
       "    </tr>\n",
       "    <tr>\n",
       "      <th>4</th>\n",
       "      <td>Ealing</td>\n",
       "      <td>E09000009</td>\n",
       "      <td>5554.428</td>\n",
       "      <td>0.000</td>\n",
       "      <td>F</td>\n",
       "      <td>None</td>\n",
       "      <td>None</td>\n",
       "      <td>POLYGON ((510253.500 182881.600, 510249.900 18...</td>\n",
       "    </tr>\n",
       "  </tbody>\n",
       "</table>\n",
       "</div>"
      ],
      "text/plain": [
       "                   NAME   GSS_CODE   HECTARES  NONLD_AREA ONS_INNER SUB_2009  \\\n",
       "0  Kingston upon Thames  E09000021   3726.117       0.000         F     None   \n",
       "1               Croydon  E09000008   8649.441       0.000         F     None   \n",
       "2               Bromley  E09000006  15013.487       0.000         F     None   \n",
       "3              Hounslow  E09000018   5658.541      60.755         F     None   \n",
       "4                Ealing  E09000009   5554.428       0.000         F     None   \n",
       "\n",
       "  SUB_2006                                           geometry  \n",
       "0     None  POLYGON ((516401.600 160201.800, 516407.300 16...  \n",
       "1     None  POLYGON ((535009.200 159504.700, 535005.500 15...  \n",
       "2     None  POLYGON ((540373.600 157530.400, 540361.200 15...  \n",
       "3     None  POLYGON ((521975.800 178100.000, 521967.700 17...  \n",
       "4     None  POLYGON ((510253.500 182881.600, 510249.900 18...  "
      ]
     },
     "execution_count": 5,
     "metadata": {},
     "output_type": "execute_result"
    }
   ],
   "source": [
    "map_wards = gpd.read_file(\"data\\London-wards-2018_ESRI\")\n",
    "geo = pd.read_csv(\"data/london_pcd2geo_2015.csv\")\n",
    "map_bouroughs = gpd.read_file('data\\statistical-gis-boundaries-london\\ESRI')\n",
    "# check data type so we can see that this is not a normal dataframe, but a GEOdataframe\n",
    "map_bouroughs.head()"
   ]
  },
  {
   "cell_type": "code",
   "execution_count": null,
   "metadata": {},
   "outputs": [],
   "source": [
    "map_wards.plot(figsize=(10,10))\n",
    "map_bourough.plot(figsize=(10,10))"
   ]
  },
  {
   "cell_type": "code",
   "execution_count": null,
   "metadata": {},
   "outputs": [],
   "source": [
    "# let's import the data:\n",
    "\n",
    "final = pd.read_csv('ALDI_standardize.csv')\n",
    "final"
   ]
  },
  {
   "cell_type": "code",
   "execution_count": null,
   "metadata": {},
   "outputs": [],
   "source": [
    "# Let's merge the two datasets\n",
    "merged_wards = map_wards.set_index('GSS_CODE').join(final.set_index('area_id'))\n",
    "merged_wards.head(3)"
   ]
  },
  {
   "cell_type": "code",
   "execution_count": null,
   "metadata": {},
   "outputs": [],
   "source": [
    "fig, ax = plt.subplots(1, figsize=(15, 10))\n",
    "merged_wards.plot(column='final', cmap='Blues', linewidth=0.8, ax=ax, edgecolor='0.8')\n"
   ]
  },
  {
   "cell_type": "code",
   "execution_count": null,
   "metadata": {},
   "outputs": [],
   "source": [
    "fig, ax = plt.subplots(1, figsize=(15, 10))\n",
    "merged_wards.plot(column='Income', cmap='Blues', linewidth=0.8, ax=ax, edgecolor='0.8')\n"
   ]
  },
  {
   "cell_type": "code",
   "execution_count": null,
   "metadata": {},
   "outputs": [],
   "source": [
    "geo = geo[['oslaua','osward']].drop_duplicates() \n",
    "merged_bouroughs = map_bouroughs.merge(geo, right_on = 'oslaua',left_on = 'GSS_CODE')\n",
    "merged_bouroughs = merge_bouroughs.merge(final.loc[:,['area_id','final']],left_on = 'osward', right_on = 'area_id')"
   ]
  },
  {
   "cell_type": "code",
   "execution_count": null,
   "metadata": {},
   "outputs": [],
   "source": [
    "merged_bouroughs.head(3)"
   ]
  },
  {
   "cell_type": "code",
   "execution_count": null,
   "metadata": {
    "scrolled": false
   },
   "outputs": [],
   "source": [
    "merged_bouroughs.final = merged_bouroughs.apply(lambda x : np.sum(merged_bouroughs[x.GSS_CODE == merged_bouroughs.GSS_CODE].final) \n",
    "                                               / np.sum([x.GSS_CODE == merged_bouroughs.GSS_CODE]), axis =1)\n",
    "\n",
    "\n",
    "fig, ax = plt.subplots(1, figsize=(15, 10))\n",
    "merged_bouroughs.plot(column='final', cmap='Blues', linewidth=0.8, ax=ax, edgecolor='0.8')\n"
   ]
  },
  {
   "cell_type": "markdown",
   "metadata": {},
   "source": [
    "![alt text](data\\super_accurate_validation_data.jpg \"Title\")"
   ]
  },
  {
   "cell_type": "code",
   "execution_count": null,
   "metadata": {},
   "outputs": [],
   "source": []
  }
 ],
 "metadata": {
  "kernelspec": {
   "display_name": "Python 3",
   "language": "python",
   "name": "python3"
  },
  "language_info": {
   "codemirror_mode": {
    "name": "ipython",
    "version": 3
   },
   "file_extension": ".py",
   "mimetype": "text/x-python",
   "name": "python",
   "nbconvert_exporter": "python",
   "pygments_lexer": "ipython3",
   "version": "3.8.5"
  }
 },
 "nbformat": 4,
 "nbformat_minor": 4
}
