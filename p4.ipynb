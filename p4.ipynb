{
 "cells": [
  {
   "cell_type": "markdown",
   "metadata": {},
   "source": [
    "# Tesco Creative Extension Project"
   ]
  },
  {
   "cell_type": "code",
   "execution_count": 53,
   "metadata": {},
   "outputs": [],
   "source": [
    "import pandas as pd\n",
    "import numpy as np\n",
    "import matplotlib.pyplot as plt\n",
    "import seaborn as sns"
   ]
  },
  {
   "cell_type": "code",
   "execution_count": 187,
   "metadata": {},
   "outputs": [],
   "source": [
    "#importing the correct data\n",
    "ward_tesco = pd.read_csv('data/tesco/year_osward_grocery.csv')\n",
    "ward_crime = pd.read_csv('data/crime_wards.csv', header=2)\n",
    "ward_demographics = pd.read_csv('data/demographics_ward.csv', header=2)\n",
    "ward_education = pd.read_csv('data/education_ward.csv', header=2)\n",
    "ward_environment = pd.read_csv('data/environment_ward.csv', header=2)\n",
    "ward_property = pd.read_csv('data/property_wards.csv', header=2)\n",
    "ward_total_wellbeing = pd.read_csv('data/total_stats_ward.csv') #serves as validation set (Sort of)"
   ]
  },
  {
   "cell_type": "code",
   "execution_count": 188,
   "metadata": {},
   "outputs": [],
   "source": [
    "ward_crime = ward_crime.dropna()\n",
    "ward_demographics = ward_demographics.dropna(axis=1)\n",
    "ward_education = ward_education.dropna()\n",
    "ward_property= ward_property.dropna()"
   ]
  },
  {
   "cell_type": "markdown",
   "metadata": {},
   "source": [
    "We need to create 11 different indicators + 1 with the food. here is the list :\n",
    "* Housing\n",
    "* Income\n",
    "* Jobs\n",
    "* Community\n",
    "* Education\n",
    "* Environment\n",
    "* Civic Engagement\n",
    "* Health\n",
    "* Life Satisfaction\n",
    "* Safety\n",
    "* Work-Life Balance"
   ]
  },
  {
   "cell_type": "markdown",
   "metadata": {},
   "source": [
    "To create our indicators we need our different categories. Let's go step by step:\n",
    "**Housing** : \n",
    "- need average # of rooms shared per person --> gives an idea of how densly packed living conditions \n",
    "- need an access to an indoor private flushing toilet \n",
    "- need way of measuring housing expenditure: ratio to housing costs on household gross adjusted disposable income"
   ]
  },
  {
   "cell_type": "code",
   "execution_count": 194,
   "metadata": {},
   "outputs": [
    {
     "data": {
      "text/plain": [
       "Index(['area_id', 'weight', 'weight_perc2.5', 'weight_perc25', 'weight_perc50',\n",
       "       'weight_perc75', 'weight_perc97.5', 'weight_std', 'weight_ci95',\n",
       "       'volume',\n",
       "       ...\n",
       "       'man_day', 'population', 'male', 'female', 'age_0_17', 'age_18_64',\n",
       "       'age_65+', 'avg_age', 'area_sq_km', 'people_per_sq_km'],\n",
       "      dtype='object', length=202)"
      ]
     },
     "execution_count": 194,
     "metadata": {},
     "output_type": "execute_result"
    }
   ],
   "source": [
    "ward_tesco.columns"
   ]
  },
  {
   "cell_type": "code",
   "execution_count": 190,
   "metadata": {},
   "outputs": [],
   "source": [
    "#we want to create a data set with only the latest data possible (since tesco is 2015)\n",
    "column_names = [\"New Code\",\"Names\",\"All Household spaces - 2011 Census\",\n",
    "                               \"Household composition - 2011 Census All Households\",\n",
    "                               \"Household composition - 2011 Census Couple household with dependent children\",\n",
    "                               \"Household composition - 2011 Census Couple household without dependent children\",\n",
    "                               \"Household composition - 2011 Census Lone parent household\",\n",
    "                               \"Household composition - 2011 Census One person household\",\n",
    "                               \"Household composition - 2011 Census Other multi person household\",\n",
    "                               \"Accomodation Type - 2011 Census Whole house or bungalow: Detached\",\n",
    "                               \"Accomodation Type - 2011 Census Whole house or bungalow: Semi-detached\",\n",
    "                               \"Accomodation Type - 2011 Census Whole house or bungalow: Terraced\",\n",
    "                               \"Accomodation Type - 2011 Census Flat, maisonette or apartment\"]\n",
    "housing = pd.DataFrame(data=ward_demographics, \n",
    "                       columns=column_names)\n",
    "housing.rename(columns= {\"New Code\":\"area_id\"}, inplace=True)\n",
    "column_names[0] = \"area_id\"\n",
    "#get data from tesco for density and area sq km:\n",
    "column_names.append(\"population\")\n",
    "column_names.append(\"area_sq_km\")\n",
    "column_names.append(\"people_per_sq_km\")"
   ]
  },
  {
   "cell_type": "code",
   "execution_count": 191,
   "metadata": {},
   "outputs": [],
   "source": [
    "housing = housing.merge(ward_tesco, on='area_id', how='inner')"
   ]
  },
  {
   "cell_type": "code",
   "execution_count": 192,
   "metadata": {},
   "outputs": [],
   "source": [
    "housing = housing[column_names] "
   ]
  },
  {
   "cell_type": "code",
   "execution_count": 193,
   "metadata": {},
   "outputs": [
    {
     "data": {
      "text/html": [
       "<div>\n",
       "<style scoped>\n",
       "    .dataframe tbody tr th:only-of-type {\n",
       "        vertical-align: middle;\n",
       "    }\n",
       "\n",
       "    .dataframe tbody tr th {\n",
       "        vertical-align: top;\n",
       "    }\n",
       "\n",
       "    .dataframe thead th {\n",
       "        text-align: right;\n",
       "    }\n",
       "</style>\n",
       "<table border=\"1\" class=\"dataframe\">\n",
       "  <thead>\n",
       "    <tr style=\"text-align: right;\">\n",
       "      <th></th>\n",
       "      <th>area_id</th>\n",
       "      <th>Names</th>\n",
       "      <th>All Household spaces - 2011 Census</th>\n",
       "      <th>Household composition - 2011 Census All Households</th>\n",
       "      <th>Household composition - 2011 Census Couple household with dependent children</th>\n",
       "      <th>Household composition - 2011 Census Couple household without dependent children</th>\n",
       "      <th>Household composition - 2011 Census Lone parent household</th>\n",
       "      <th>Household composition - 2011 Census One person household</th>\n",
       "      <th>Household composition - 2011 Census Other multi person household</th>\n",
       "      <th>Accomodation Type - 2011 Census Whole house or bungalow: Detached</th>\n",
       "      <th>Accomodation Type - 2011 Census Whole house or bungalow: Semi-detached</th>\n",
       "      <th>Accomodation Type - 2011 Census Whole house or bungalow: Terraced</th>\n",
       "      <th>Accomodation Type - 2011 Census Flat, maisonette or apartment</th>\n",
       "      <th>population</th>\n",
       "      <th>area_sq_km</th>\n",
       "      <th>people_per_sq_km</th>\n",
       "    </tr>\n",
       "  </thead>\n",
       "  <tbody>\n",
       "    <tr>\n",
       "      <th>0</th>\n",
       "      <td>E05000026</td>\n",
       "      <td>Abbey</td>\n",
       "      <td>4753</td>\n",
       "      <td>4572</td>\n",
       "      <td>953</td>\n",
       "      <td>714</td>\n",
       "      <td>648</td>\n",
       "      <td>1163</td>\n",
       "      <td>1094</td>\n",
       "      <td>183</td>\n",
       "      <td>341</td>\n",
       "      <td>1076</td>\n",
       "      <td>3153</td>\n",
       "      <td>14370.0</td>\n",
       "      <td>1.26</td>\n",
       "      <td>11404.761905</td>\n",
       "    </tr>\n",
       "  </tbody>\n",
       "</table>\n",
       "</div>"
      ],
      "text/plain": [
       "     area_id  Names  All Household spaces - 2011 Census  \\\n",
       "0  E05000026  Abbey                                4753   \n",
       "\n",
       "   Household composition - 2011 Census All Households  \\\n",
       "0                                               4572    \n",
       "\n",
       "   Household composition - 2011 Census Couple household with dependent children  \\\n",
       "0                                                953                              \n",
       "\n",
       "   Household composition - 2011 Census Couple household without dependent children  \\\n",
       "0                                                714                                 \n",
       "\n",
       "   Household composition - 2011 Census Lone parent household  \\\n",
       "0                                                648           \n",
       "\n",
       "   Household composition - 2011 Census One person household  \\\n",
       "0                                               1163          \n",
       "\n",
       "   Household composition - 2011 Census Other multi person household  \\\n",
       "0                                               1094                  \n",
       "\n",
       "   Accomodation Type - 2011 Census Whole house or bungalow: Detached  \\\n",
       "0                                                183                   \n",
       "\n",
       "   Accomodation Type - 2011 Census Whole house or bungalow: Semi-detached  \\\n",
       "0                                                341                        \n",
       "\n",
       "   Accomodation Type - 2011 Census Whole house or bungalow: Terraced  \\\n",
       "0                                               1076                   \n",
       "\n",
       "   Accomodation Type - 2011 Census Flat, maisonette or apartment  population  \\\n",
       "0                                               3153                 14370.0   \n",
       "\n",
       "   area_sq_km  people_per_sq_km  \n",
       "0        1.26      11404.761905  "
      ]
     },
     "execution_count": 193,
     "metadata": {},
     "output_type": "execute_result"
    }
   ],
   "source": [
    "housing.loc[housing['area_id'] == \"E05000026\"]"
   ]
  },
  {
   "cell_type": "markdown",
   "metadata": {},
   "source": [
    "**Income**\n",
    "link here : http://www.oecdbetterlifeindex.org/topics/income/ \n",
    "* income \n",
    "* household net wealth : average total wealth of household assets (savings, stocks) minus liabilites (loans)\n",
    "* household net adjusted disposable income "
   ]
  },
  {
   "cell_type": "code",
   "execution_count": 173,
   "metadata": {},
   "outputs": [],
   "source": [
    "#code here"
   ]
  },
  {
   "cell_type": "markdown",
   "metadata": {},
   "source": [
    "**Jobs** \n",
    "link here : http://www.oecdbetterlifeindex.org/topics/jobs/\n",
    "* job security -- expected loss of earnings when someone becomes unemployed\n",
    "* personal earnings \n",
    "* long-term unemployment rate (have been actively searching for a job in past 12 months)\n",
    "* employment rate "
   ]
  },
  {
   "cell_type": "code",
   "execution_count": 174,
   "metadata": {},
   "outputs": [],
   "source": [
    "#code here"
   ]
  },
  {
   "cell_type": "markdown",
   "metadata": {},
   "source": [
    "**Community**\n",
    "link here : http://www.oecdbetterlifeindex.org/topics/community/\n",
    "* community\n",
    "* quality of support network -- how much can you rely on friends --> we should change to indicator of community diversity perhaps with ethnic group diversity and religious diversity"
   ]
  },
  {
   "cell_type": "code",
   "execution_count": 175,
   "metadata": {},
   "outputs": [],
   "source": [
    "#code here"
   ]
  },
  {
   "cell_type": "markdown",
   "metadata": {},
   "source": [
    "**Education** link here : http://www.oecdbetterlifeindex.org/topics/education/\n",
    "* years in education\n",
    "* student skills -- average performance of student here GSED or whatever \n",
    "* education attainment -- percent of people 24- 64 years old having at least an upper-secondary education "
   ]
  },
  {
   "cell_type": "code",
   "execution_count": 177,
   "metadata": {},
   "outputs": [],
   "source": [
    "#code here"
   ]
  },
  {
   "cell_type": "markdown",
   "metadata": {},
   "source": [
    "**Environment**\n",
    "link here: http://www.oecdbetterlifeindex.org/topics/environment/\n",
    "* water quality \n",
    "* air pollution -- measured in PM 2.5\n",
    "* in addition : access to parks and greens "
   ]
  },
  {
   "cell_type": "code",
   "execution_count": 178,
   "metadata": {},
   "outputs": [],
   "source": [
    "#code here"
   ]
  },
  {
   "cell_type": "markdown",
   "metadata": {},
   "source": [
    "**Civic Engagement** \n",
    "link here : http://www.oecdbetterlifeindex.org/topics/civic-engagement/\n",
    "* voter turnout in latest elections\n",
    "* stakeholder engagement for developing regulations -- might be hard to do"
   ]
  },
  {
   "cell_type": "code",
   "execution_count": 179,
   "metadata": {},
   "outputs": [],
   "source": [
    "#code here"
   ]
  },
  {
   "cell_type": "markdown",
   "metadata": {},
   "source": [
    "**Health**\n",
    "link here: http://www.oecdbetterlifeindex.org/topics/health/\n",
    "* life expectancy\n",
    "* self-reported health (kind of hard)\n",
    "* we can include like ambulances or whatever"
   ]
  },
  {
   "cell_type": "code",
   "execution_count": 180,
   "metadata": {},
   "outputs": [],
   "source": [
    "#code here"
   ]
  },
  {
   "cell_type": "markdown",
   "metadata": {},
   "source": [
    "**Life Satisfaction**\n",
    "link here: http://www.oecdbetterlifeindex.org/topics/life-satisfaction/\n",
    "* life satisfaction -- how satisfied are you with your life ? we have data for that"
   ]
  },
  {
   "cell_type": "code",
   "execution_count": 181,
   "metadata": {},
   "outputs": [],
   "source": [
    "#code here"
   ]
  },
  {
   "cell_type": "markdown",
   "metadata": {},
   "source": [
    "**Safety**\n",
    "link here : http://www.oecdbetterlifeindex.org/topics/safety/\n",
    "* homicide rate\n",
    "* feeling safe walking alone at night (self reported) --> can use burgularies or something"
   ]
  },
  {
   "cell_type": "code",
   "execution_count": 182,
   "metadata": {},
   "outputs": [],
   "source": [
    "# code here"
   ]
  },
  {
   "cell_type": "markdown",
   "metadata": {},
   "source": [
    "**Work-Life Balance** \n",
    "link here : http://www.oecdbetterlifeindex.org/topics/work-life-balance/ \n",
    "* Time devoted to leisure and personal care\n",
    "* employees working very long hours "
   ]
  },
  {
   "cell_type": "code",
   "execution_count": 183,
   "metadata": {},
   "outputs": [],
   "source": [
    "#code here"
   ]
  },
  {
   "cell_type": "code",
   "execution_count": null,
   "metadata": {},
   "outputs": [],
   "source": []
  }
 ],
 "metadata": {
  "kernelspec": {
   "display_name": "Python [conda env:ada] *",
   "language": "python",
   "name": "conda-env-ada-py"
  },
  "language_info": {
   "codemirror_mode": {
    "name": "ipython",
    "version": 3
   },
   "file_extension": ".py",
   "mimetype": "text/x-python",
   "name": "python",
   "nbconvert_exporter": "python",
   "pygments_lexer": "ipython3",
   "version": "3.8.5"
  }
 },
 "nbformat": 4,
 "nbformat_minor": 4
}
