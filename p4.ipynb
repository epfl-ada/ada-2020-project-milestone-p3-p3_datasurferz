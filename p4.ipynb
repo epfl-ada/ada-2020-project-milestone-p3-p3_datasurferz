{
 "cells": [
  {
   "cell_type": "markdown",
   "metadata": {},
   "source": [
    "# Tesco Creative Extension Project"
   ]
  },
  {
   "cell_type": "code",
   "execution_count": 433,
   "metadata": {},
   "outputs": [],
   "source": [
    "import pandas as pd\n",
    "import numpy as np\n",
    "import matplotlib.pyplot as plt\n",
    "import seaborn as sns"
   ]
  },
  {
   "cell_type": "code",
   "execution_count": 434,
   "metadata": {},
   "outputs": [],
   "source": [
    "#importing the correct data\n",
    "ward_tesco = pd.read_csv('data/tesco/year_osward_grocery.csv')\n",
    "ward_crime = pd.read_csv('data/crime_wards.csv', header=2)\n",
    "ward_demographics = pd.read_csv('data/demographics_ward.csv', header=2)\n",
    "ward_education = pd.read_csv('data/education_ward.csv', header=2)\n",
    "ward_environment = pd.read_csv('data/environment_ward.csv', header=2)\n",
    "ward_property = pd.read_csv('data/property_wards.csv', header=2)\n",
    "ward_total_wellbeing = pd.read_csv('data/total_stats_ward.csv') #serves as validation set (Sort of)"
   ]
  },
  {
   "cell_type": "code",
   "execution_count": 435,
   "metadata": {},
   "outputs": [],
   "source": [
    "#getting rid of all the badly formated data\n",
    "ward_crime = ward_crime.dropna()\n",
    "ward_demographics = ward_demographics.dropna(axis=1)\n",
    "ward_education = ward_education.dropna()\n",
    "ward_property= ward_property.dropna()"
   ]
  },
  {
   "cell_type": "code",
   "execution_count": 436,
   "metadata": {},
   "outputs": [],
   "source": [
    "#rename all the \"New Code \" to \"area id\" for merging purposes\n",
    "master_data = {'crime': ward_crime, 'demographics': ward_demographics, 'education': ward_education,\n",
    "              'environment': ward_environment, 'property': ward_property}\n",
    "\n",
    "for key in master_data:\n",
    "    master_data[key].rename(columns= {\"New Code\":\"area_id\"}, inplace=True)"
   ]
  },
  {
   "cell_type": "markdown",
   "metadata": {},
   "source": [
    "We need to create 11 different indicators + 1 with the food. here is the list :\n",
    "* Housing\n",
    "* Income\n",
    "* Jobs\n",
    "* Community\n",
    "* Education\n",
    "* Environment\n",
    "* Civic Engagement\n",
    "* Health\n",
    "* Life Satisfaction\n",
    "* Safety\n",
    "* Work-Life Balance"
   ]
  },
  {
   "cell_type": "markdown",
   "metadata": {},
   "source": [
    "To create our indicators we need our different categories. Let's go step by step:\n",
    "**Housing** : \n",
    "- need average # of rooms shared per person --> gives an idea of how densly packed living conditions -- here called `household_density`\n",
    "- need an access to an indoor private flushing toilet \n",
    "- need way of measuring housing expenditure: ratio to housing costs on household gross adjusted disposable income"
   ]
  },
  {
   "cell_type": "code",
   "execution_count": 453,
   "metadata": {},
   "outputs": [],
   "source": [
    "#we want to create a data set with only the latest data possible (since tesco is 2015) -- we use census data from 2011\n",
    "column_names = [\"area_id\",\"Names\",\"All Household spaces - 2011 Census\",\n",
    "                               \"Household composition - 2011 Census All Households\",\n",
    "                               \"Household composition - 2011 Census Couple household with dependent children\",\n",
    "                               \"Household composition - 2011 Census Couple household without dependent children\",\n",
    "                               \"Household composition - 2011 Census Lone parent household\",\n",
    "                               \"Household composition - 2011 Census One person household\",\n",
    "                               \"Household composition - 2011 Census Other multi person household\",\n",
    "                               \"Accomodation Type - 2011 Census Whole house or bungalow: Detached\",\n",
    "                               \"Accomodation Type - 2011 Census Whole house or bungalow: Semi-detached\",\n",
    "                               \"Accomodation Type - 2011 Census Whole house or bungalow: Terraced\",\n",
    "                               \"Accomodation Type - 2011 Census Flat, maisonette or apartment\"]\n",
    "housing = pd.DataFrame(data=ward_demographics, \n",
    "                       columns=column_names)\n",
    "\n",
    "#get data from tesco for density and area sq km:\n",
    "column_names.append(\"population\")\n",
    "column_names.append(\"area_sq_km\")\n",
    "column_names.append(\"people_per_sq_km\")"
   ]
  },
  {
   "cell_type": "code",
   "execution_count": 454,
   "metadata": {},
   "outputs": [],
   "source": [
    "housing = housing.merge(ward_tesco, on='area_id', how='inner')"
   ]
  },
  {
   "cell_type": "markdown",
   "metadata": {},
   "source": [
    "calculating some important statistics like the average number of people in a household:"
   ]
  },
  {
   "cell_type": "code",
   "execution_count": 455,
   "metadata": {},
   "outputs": [],
   "source": [
    "household_type = [\"Household composition - 2011 Census All Households\",\n",
    "                  \"Household composition - 2011 Census Couple household with dependent children\",\n",
    "                  \"Household composition - 2011 Census Couple household without dependent children\",\n",
    "                  \"Household composition - 2011 Census Lone parent household\",\n",
    "                  \"Household composition - 2011 Census One person household\",\n",
    "                  \"Household composition - 2011 Census Other multi person household\"]\n",
    "#assuming 2 dependent child , we are calculating the average number of people found in a household\n",
    "housing = housing.assign(avg_people_per_household= ((housing[household_type[1]]*4 + housing[household_type[2]]*2 \n",
    "                        + housing[household_type[3]]+housing[household_type[4]]+3*housing[household_type[5]])\n",
    "                        / housing[household_type[0]]))"
   ]
  },
  {
   "cell_type": "markdown",
   "metadata": {},
   "source": [
    "... and the average amount of bedrooms found in a dwelling"
   ]
  },
  {
   "cell_type": "code",
   "execution_count": 456,
   "metadata": {},
   "outputs": [],
   "source": [
    "#calculating the amount of bedrooms found on average in a dwelling\n",
    "rooms = [\"1 bedroom\",\"2 bedrooms\", \"3 bedrooms\", \"4+ bedrooms\", \"All properties (2015)\", \"Annex/Other/Unknown\"]\n",
    "rooms_temp = pd.DataFrame(data=ward_property, columns=rooms)\n",
    "rooms_temp = rooms_temp.assign(avg_rooms= round((1*rooms_temp[\"1 bedroom\"]+2*rooms_temp[\"2 bedrooms\"]+\n",
    "                               3*rooms_temp[\"3 bedrooms\"]+4*rooms_temp[\"4+ bedrooms\"])\n",
    "                                                /(rooms_temp[rooms[4]]-rooms_temp[rooms[5]])))\n",
    "housing = housing.assign(avg_rooms_per_household = rooms_temp[\"avg_rooms\"])"
   ]
  },
  {
   "cell_type": "markdown",
   "metadata": {},
   "source": [
    "... which allows us to calculate the average number of rooms shared in a household. we also calculate household density"
   ]
  },
  {
   "cell_type": "code",
   "execution_count": 457,
   "metadata": {},
   "outputs": [],
   "source": [
    "housing = housing.assign(rooms_shared_per_household = housing[\"avg_rooms_per_household\"]/housing[\"avg_people_per_household\"])\n",
    "\n",
    "#this sequence of codes gives us a rough estimate of the household density per area. we can improve by \n",
    "#giving weights to the different types of dwelling -- i.e apartments are more densly packed\n",
    "housing = housing.assign(household_per_sq_km = housing[\"All Household spaces - 2011 Census\"]/housing[\"area_sq_km\"])\n",
    "housing = housing.assign(household_density = housing[\"household_per_sq_km\"]/housing[\"people_per_sq_km\"])"
   ]
  },
  {
   "cell_type": "markdown",
   "metadata": {},
   "source": [
    "we want to get a sense of how much does it cost to keep a roof over their heads --"
   ]
  },
  {
   "cell_type": "code",
   "execution_count": 458,
   "metadata": {},
   "outputs": [],
   "source": [
    "column_names = [\"area_id\",\"Median House Price 2014\"]\n",
    "house_cost = pd.DataFrame(data=master_data[\"demographics\"], columns= column_names)\n",
    "house_cost.rename(columns={\"Median House Price 2014\":\"median_house_price\"}, inplace=True)"
   ]
  },
  {
   "cell_type": "code",
   "execution_count": 459,
   "metadata": {},
   "outputs": [],
   "source": [
    "housing = housing.merge(house_cost, on='area_id', how='inner')"
   ]
  },
  {
   "cell_type": "markdown",
   "metadata": {},
   "source": [
    "and we keep only the important columns for our frame "
   ]
  },
  {
   "cell_type": "code",
   "execution_count": 460,
   "metadata": {},
   "outputs": [],
   "source": [
    "column_names = [\"area_id\",\"Names\",\"median_house_price\", \"population\",\"area_sq_km\", \"people_per_sq_km\",\"avg_people_per_household\",\n",
    "               \"avg_rooms_per_household\",\"household_per_sq_km\",\"household_density\"]\n",
    "housing = pd.DataFrame(data=housing, columns=column_names)"
   ]
  },
  {
   "cell_type": "code",
   "execution_count": 461,
   "metadata": {},
   "outputs": [
    {
     "data": {
      "text/html": [
       "<div>\n",
       "<style scoped>\n",
       "    .dataframe tbody tr th:only-of-type {\n",
       "        vertical-align: middle;\n",
       "    }\n",
       "\n",
       "    .dataframe tbody tr th {\n",
       "        vertical-align: top;\n",
       "    }\n",
       "\n",
       "    .dataframe thead th {\n",
       "        text-align: right;\n",
       "    }\n",
       "</style>\n",
       "<table border=\"1\" class=\"dataframe\">\n",
       "  <thead>\n",
       "    <tr style=\"text-align: right;\">\n",
       "      <th></th>\n",
       "      <th>area_id</th>\n",
       "      <th>Names</th>\n",
       "      <th>median_house_price</th>\n",
       "      <th>population</th>\n",
       "      <th>area_sq_km</th>\n",
       "      <th>people_per_sq_km</th>\n",
       "      <th>avg_people_per_household</th>\n",
       "      <th>avg_rooms_per_household</th>\n",
       "      <th>household_per_sq_km</th>\n",
       "      <th>household_density</th>\n",
       "    </tr>\n",
       "  </thead>\n",
       "  <tbody>\n",
       "    <tr>\n",
       "      <th>0</th>\n",
       "      <td>E05000026</td>\n",
       "      <td>Abbey</td>\n",
       "      <td>173000</td>\n",
       "      <td>14370.0</td>\n",
       "      <td>1.26</td>\n",
       "      <td>11404.761905</td>\n",
       "      <td>2.260061</td>\n",
       "      <td>2.0</td>\n",
       "      <td>3772.222222</td>\n",
       "      <td>0.330759</td>\n",
       "    </tr>\n",
       "    <tr>\n",
       "      <th>1</th>\n",
       "      <td>E05000027</td>\n",
       "      <td>Alibon</td>\n",
       "      <td>215000</td>\n",
       "      <td>10845.0</td>\n",
       "      <td>1.36</td>\n",
       "      <td>7974.264706</td>\n",
       "      <td>2.096701</td>\n",
       "      <td>2.0</td>\n",
       "      <td>2974.264706</td>\n",
       "      <td>0.372983</td>\n",
       "    </tr>\n",
       "    <tr>\n",
       "      <th>2</th>\n",
       "      <td>E05000028</td>\n",
       "      <td>Becontree</td>\n",
       "      <td>210000</td>\n",
       "      <td>13856.0</td>\n",
       "      <td>1.29</td>\n",
       "      <td>10741.085271</td>\n",
       "      <td>2.104980</td>\n",
       "      <td>2.0</td>\n",
       "      <td>3393.798450</td>\n",
       "      <td>0.315964</td>\n",
       "    </tr>\n",
       "    <tr>\n",
       "      <th>3</th>\n",
       "      <td>E05000029</td>\n",
       "      <td>Chadwell Heath</td>\n",
       "      <td>240500</td>\n",
       "      <td>10850.0</td>\n",
       "      <td>3.38</td>\n",
       "      <td>3210.059172</td>\n",
       "      <td>2.055048</td>\n",
       "      <td>2.0</td>\n",
       "      <td>1201.775148</td>\n",
       "      <td>0.374378</td>\n",
       "    </tr>\n",
       "    <tr>\n",
       "      <th>4</th>\n",
       "      <td>E05000030</td>\n",
       "      <td>Eastbrook</td>\n",
       "      <td>240000</td>\n",
       "      <td>11348.0</td>\n",
       "      <td>3.45</td>\n",
       "      <td>3289.275362</td>\n",
       "      <td>2.194237</td>\n",
       "      <td>2.0</td>\n",
       "      <td>1152.753623</td>\n",
       "      <td>0.350458</td>\n",
       "    </tr>\n",
       "    <tr>\n",
       "      <th>...</th>\n",
       "      <td>...</td>\n",
       "      <td>...</td>\n",
       "      <td>...</td>\n",
       "      <td>...</td>\n",
       "      <td>...</td>\n",
       "      <td>...</td>\n",
       "      <td>...</td>\n",
       "      <td>...</td>\n",
       "      <td>...</td>\n",
       "      <td>...</td>\n",
       "    </tr>\n",
       "    <tr>\n",
       "      <th>478</th>\n",
       "      <td>E05000645</td>\n",
       "      <td>Tachbrook</td>\n",
       "      <td>715650</td>\n",
       "      <td>8996.0</td>\n",
       "      <td>0.36</td>\n",
       "      <td>24988.888889</td>\n",
       "      <td>1.709201</td>\n",
       "      <td>3.0</td>\n",
       "      <td>14444.444444</td>\n",
       "      <td>0.578035</td>\n",
       "    </tr>\n",
       "    <tr>\n",
       "      <th>479</th>\n",
       "      <td>E05000646</td>\n",
       "      <td>Vincent Square</td>\n",
       "      <td>840000</td>\n",
       "      <td>11276.0</td>\n",
       "      <td>0.60</td>\n",
       "      <td>18793.333333</td>\n",
       "      <td>1.791183</td>\n",
       "      <td>3.0</td>\n",
       "      <td>9523.333333</td>\n",
       "      <td>0.506740</td>\n",
       "    </tr>\n",
       "    <tr>\n",
       "      <th>480</th>\n",
       "      <td>E05000647</td>\n",
       "      <td>Warwick</td>\n",
       "      <td>857250</td>\n",
       "      <td>10086.0</td>\n",
       "      <td>0.58</td>\n",
       "      <td>17389.655172</td>\n",
       "      <td>1.772537</td>\n",
       "      <td>3.0</td>\n",
       "      <td>9434.482759</td>\n",
       "      <td>0.542534</td>\n",
       "    </tr>\n",
       "    <tr>\n",
       "      <th>481</th>\n",
       "      <td>E05000648</td>\n",
       "      <td>Westbourne</td>\n",
       "      <td>499975</td>\n",
       "      <td>13668.0</td>\n",
       "      <td>0.67</td>\n",
       "      <td>20400.000000</td>\n",
       "      <td>1.904780</td>\n",
       "      <td>2.0</td>\n",
       "      <td>8165.671642</td>\n",
       "      <td>0.400278</td>\n",
       "    </tr>\n",
       "    <tr>\n",
       "      <th>482</th>\n",
       "      <td>E05000649</td>\n",
       "      <td>West End</td>\n",
       "      <td>1487500</td>\n",
       "      <td>11827.0</td>\n",
       "      <td>1.99</td>\n",
       "      <td>5943.216080</td>\n",
       "      <td>1.686271</td>\n",
       "      <td>2.0</td>\n",
       "      <td>3832.663317</td>\n",
       "      <td>0.644880</td>\n",
       "    </tr>\n",
       "  </tbody>\n",
       "</table>\n",
       "<p>483 rows × 10 columns</p>\n",
       "</div>"
      ],
      "text/plain": [
       "       area_id           Names  median_house_price  population  area_sq_km  \\\n",
       "0    E05000026           Abbey              173000     14370.0        1.26   \n",
       "1    E05000027          Alibon              215000     10845.0        1.36   \n",
       "2    E05000028       Becontree              210000     13856.0        1.29   \n",
       "3    E05000029  Chadwell Heath              240500     10850.0        3.38   \n",
       "4    E05000030       Eastbrook              240000     11348.0        3.45   \n",
       "..         ...             ...                 ...         ...         ...   \n",
       "478  E05000645       Tachbrook              715650      8996.0        0.36   \n",
       "479  E05000646  Vincent Square              840000     11276.0        0.60   \n",
       "480  E05000647         Warwick              857250     10086.0        0.58   \n",
       "481  E05000648      Westbourne              499975     13668.0        0.67   \n",
       "482  E05000649        West End             1487500     11827.0        1.99   \n",
       "\n",
       "     people_per_sq_km  avg_people_per_household  avg_rooms_per_household  \\\n",
       "0        11404.761905                  2.260061                      2.0   \n",
       "1         7974.264706                  2.096701                      2.0   \n",
       "2        10741.085271                  2.104980                      2.0   \n",
       "3         3210.059172                  2.055048                      2.0   \n",
       "4         3289.275362                  2.194237                      2.0   \n",
       "..                ...                       ...                      ...   \n",
       "478      24988.888889                  1.709201                      3.0   \n",
       "479      18793.333333                  1.791183                      3.0   \n",
       "480      17389.655172                  1.772537                      3.0   \n",
       "481      20400.000000                  1.904780                      2.0   \n",
       "482       5943.216080                  1.686271                      2.0   \n",
       "\n",
       "     household_per_sq_km  household_density  \n",
       "0            3772.222222           0.330759  \n",
       "1            2974.264706           0.372983  \n",
       "2            3393.798450           0.315964  \n",
       "3            1201.775148           0.374378  \n",
       "4            1152.753623           0.350458  \n",
       "..                   ...                ...  \n",
       "478         14444.444444           0.578035  \n",
       "479          9523.333333           0.506740  \n",
       "480          9434.482759           0.542534  \n",
       "481          8165.671642           0.400278  \n",
       "482          3832.663317           0.644880  \n",
       "\n",
       "[483 rows x 10 columns]"
      ]
     },
     "execution_count": 461,
     "metadata": {},
     "output_type": "execute_result"
    }
   ],
   "source": [
    "housing"
   ]
  },
  {
   "cell_type": "markdown",
   "metadata": {},
   "source": [
    "**Income**\n",
    "link here : http://www.oecdbetterlifeindex.org/topics/income/ \n",
    "* income \n",
    "* household net wealth : average total wealth of household assets (savings, stocks) minus liabilites (loans)\n",
    "* household net adjusted disposable income "
   ]
  },
  {
   "cell_type": "code",
   "execution_count": 173,
   "metadata": {},
   "outputs": [],
   "source": [
    "#code here"
   ]
  },
  {
   "cell_type": "markdown",
   "metadata": {},
   "source": [
    "**Jobs** \n",
    "link here : http://www.oecdbetterlifeindex.org/topics/jobs/\n",
    "* job security -- expected loss of earnings when someone becomes unemployed\n",
    "* personal earnings \n",
    "* long-term unemployment rate (have been actively searching for a job in past 12 months)\n",
    "* employment rate "
   ]
  },
  {
   "cell_type": "code",
   "execution_count": 174,
   "metadata": {},
   "outputs": [],
   "source": [
    "#code here"
   ]
  },
  {
   "cell_type": "markdown",
   "metadata": {},
   "source": [
    "**Community**\n",
    "link here : http://www.oecdbetterlifeindex.org/topics/community/\n",
    "* community\n",
    "* quality of support network -- how much can you rely on friends --> we should change to indicator of community diversity perhaps with ethnic group diversity and religious diversity"
   ]
  },
  {
   "cell_type": "code",
   "execution_count": 175,
   "metadata": {},
   "outputs": [],
   "source": [
    "#code here"
   ]
  },
  {
   "cell_type": "markdown",
   "metadata": {},
   "source": [
    "**Education** link here : http://www.oecdbetterlifeindex.org/topics/education/\n",
    "* years in education\n",
    "* student skills -- average performance of student here GSED or whatever \n",
    "* education attainment -- percent of people 24- 64 years old having at least an upper-secondary education "
   ]
  },
  {
   "cell_type": "code",
   "execution_count": 177,
   "metadata": {},
   "outputs": [],
   "source": [
    "#code here"
   ]
  },
  {
   "cell_type": "markdown",
   "metadata": {},
   "source": [
    "**Environment**\n",
    "link here: http://www.oecdbetterlifeindex.org/topics/environment/\n",
    "* water quality \n",
    "* air pollution -- measured in PM 2.5\n",
    "* in addition : access to parks and greens "
   ]
  },
  {
   "cell_type": "code",
   "execution_count": 178,
   "metadata": {},
   "outputs": [],
   "source": [
    "#code here"
   ]
  },
  {
   "cell_type": "markdown",
   "metadata": {},
   "source": [
    "**Civic Engagement** \n",
    "link here : http://www.oecdbetterlifeindex.org/topics/civic-engagement/\n",
    "* voter turnout in latest elections\n",
    "* stakeholder engagement for developing regulations -- might be hard to do"
   ]
  },
  {
   "cell_type": "code",
   "execution_count": 179,
   "metadata": {},
   "outputs": [],
   "source": [
    "#code here"
   ]
  },
  {
   "cell_type": "markdown",
   "metadata": {},
   "source": [
    "**Health**\n",
    "link here: http://www.oecdbetterlifeindex.org/topics/health/\n",
    "* life expectancy\n",
    "* self-reported health (kind of hard)\n",
    "* we can include like ambulances or whatever"
   ]
  },
  {
   "cell_type": "code",
   "execution_count": 180,
   "metadata": {},
   "outputs": [],
   "source": [
    "#code here"
   ]
  },
  {
   "cell_type": "markdown",
   "metadata": {},
   "source": [
    "**Life Satisfaction**\n",
    "link here: http://www.oecdbetterlifeindex.org/topics/life-satisfaction/\n",
    "* life satisfaction -- how satisfied are you with your life ? we have data for that"
   ]
  },
  {
   "cell_type": "code",
   "execution_count": 181,
   "metadata": {},
   "outputs": [],
   "source": [
    "#code here"
   ]
  },
  {
   "cell_type": "markdown",
   "metadata": {},
   "source": [
    "**Safety**\n",
    "link here : http://www.oecdbetterlifeindex.org/topics/safety/\n",
    "* homicide rate\n",
    "* feeling safe walking alone at night (self reported) --> can use burgularies or something"
   ]
  },
  {
   "cell_type": "code",
   "execution_count": 182,
   "metadata": {},
   "outputs": [],
   "source": [
    "# code here"
   ]
  },
  {
   "cell_type": "markdown",
   "metadata": {},
   "source": [
    "**Work-Life Balance** \n",
    "link here : http://www.oecdbetterlifeindex.org/topics/work-life-balance/ \n",
    "* Time devoted to leisure and personal care\n",
    "* employees working very long hours "
   ]
  },
  {
   "cell_type": "code",
   "execution_count": 183,
   "metadata": {},
   "outputs": [],
   "source": [
    "#code here"
   ]
  },
  {
   "cell_type": "code",
   "execution_count": null,
   "metadata": {},
   "outputs": [],
   "source": []
  }
 ],
 "metadata": {
  "kernelspec": {
   "display_name": "Python [conda env:ada] *",
   "language": "python",
   "name": "conda-env-ada-py"
  },
  "language_info": {
   "codemirror_mode": {
    "name": "ipython",
    "version": 3
   },
   "file_extension": ".py",
   "mimetype": "text/x-python",
   "name": "python",
   "nbconvert_exporter": "python",
   "pygments_lexer": "ipython3",
   "version": "3.8.5"
  }
 },
 "nbformat": 4,
 "nbformat_minor": 4
}
