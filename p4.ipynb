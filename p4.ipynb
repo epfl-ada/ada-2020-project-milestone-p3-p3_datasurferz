{
 "cells": [
  {
   "cell_type": "markdown",
   "metadata": {},
   "source": [
    "# Tesco Creative Extension Project"
   ]
  },
  {
   "cell_type": "markdown",
   "metadata": {},
   "source": [
    "## Table of Contents:\n",
    "1. [Useful functions](#first-bullet)\n",
    "    * [Housing](#house)\n",
    "    * [Income](#income)\n",
    "    * [Jobs](#jobs)\n",
    "    * [Community](#community)\n",
    "    * [Education](#education)\n",
    "    * [Environment](#env)\n",
    "    * [Civic Engagement](#civic)\n",
    "    * [Health](#health)\n",
    "    * [Life Satisfaction](#satisfaction)\n",
    "    * [Safety](#safety)\n",
    "    * [Work-Life Balance](#balance)\n",
    "    * [Food](#food)\n",
    "2. [data preprocessing](#second-bullet)\n",
    "\n",
    "3. [PCA](#3-bullet)"
   ]
  },
  {
   "cell_type": "code",
   "execution_count": 305,
   "metadata": {},
   "outputs": [],
   "source": [
    "import pandas as pd\n",
    "import numpy as np\n",
    "import matplotlib.pyplot as plt\n",
    "import seaborn as sns"
   ]
  },
  {
   "cell_type": "markdown",
   "metadata": {},
   "source": [
    "## useful functions data preprocessing <a class=\"anchor\" id=\"first-bullet\"></a>\n",
    "in this section we define useful functions to help us in our data preprocessing pipeline:"
   ]
  },
  {
   "cell_type": "code",
   "execution_count": 306,
   "metadata": {},
   "outputs": [],
   "source": [
    "#Can choose between 'standardize' (xi - mean)/std or 're_scale' (rescales between 0 and 1), also can remove outliers or not\n",
    "# must be a list though, if remove all outliers just [True] or [False], if some columns yes and others no : [True, False...]\n",
    "# must match 'columns' lenght. (can be only 1 column) \n",
    "\n",
    "def normalize(df,method='standardize', remove_outliers = [True]):\n",
    "    \"\"\"function that will allow us to normalize the data, using different methods, and remove outliers (or not).  \"\"\"\n",
    "    data  = df.copy()\n",
    "    start = 1\n",
    "    if 'Names' in data.columns:\n",
    "        start = 2\n",
    "        \n",
    "    if len(remove_outliers) == 1 :\n",
    "        remove_outliers = remove_outliers*data.shape[1]\n",
    "    elif len(remove_outliers) != data.shape[1] : print('Warning, remove_outliers size should match the one of colums')\n",
    "        \n",
    "    for i,col in enumerate(data.columns[start:]) :\n",
    "        if remove_outliers[i] :\n",
    "            #remove outliers\n",
    "            data.loc[:,col] = data.loc[:,col].clip(lower = data.loc[:,col].quantile(0.025))\n",
    "            data.loc[:,col] = data.loc[:,col].clip(upper = data.loc[:,col].quantile(0.975))\n",
    "        if method == 'standardize' :\n",
    "            data.loc[:,col] = (data.loc[:,col] - data.loc[:,col].mean())/data.loc[:,col].std()\n",
    "        elif method == 're_scale' :\n",
    "            data.loc[:,col] = ((data.loc[:,col] - data.loc[:,col].min()) / (data.loc[:,col].max() - data.loc[:,col].min()))\n",
    "        else : print('Warning, unknown method ', method)\n",
    "    return data"
   ]
  },
  {
   "cell_type": "markdown",
   "metadata": {},
   "source": [
    "## Data Pre-processing <a class=\"anchor\" id=\"second-bullet\"></a>"
   ]
  },
  {
   "cell_type": "code",
   "execution_count": 307,
   "metadata": {},
   "outputs": [],
   "source": [
    "#importing the correct data\n",
    "ward_tesco = pd.read_csv('data/tesco/year_osward_grocery.csv')\n",
    "ward_crime = pd.read_csv('data/crime_wards.csv', header=2)\n",
    "ward_demographics = pd.read_csv('data/demographics_ward.csv', header=2)\n",
    "ward_education = pd.read_csv('data/education_ward.csv', header=2)\n",
    "ward_environment = pd.read_csv('data/environment_ward.csv', header=2)\n",
    "ward_property = pd.read_csv('data/property_wards.csv', header=2)\n",
    "ward_total_wellbeing = pd.read_csv('data/total_stats_ward.csv') #serves as validation set (Sort of)"
   ]
  },
  {
   "cell_type": "code",
   "execution_count": 308,
   "metadata": {},
   "outputs": [],
   "source": [
    "#getting rid of all the badly formated data\n",
    "ward_crime = ward_crime.dropna()\n",
    "ward_demographics = ward_demographics.dropna(axis=1)\n",
    "ward_education = ward_education.dropna()\n",
    "ward_property= ward_property.dropna()"
   ]
  },
  {
   "cell_type": "code",
   "execution_count": 309,
   "metadata": {},
   "outputs": [],
   "source": [
    "#rename all the \"New Code \" to \"area id\" for merging purposes\n",
    "master_data = {'crime': ward_crime, 'demographics': ward_demographics, 'education': ward_education,\n",
    "              'environment': ward_environment, 'property': ward_property, 'foods':ward_tesco}\n",
    "\n",
    "for key in master_data:\n",
    "    master_data[key].rename(columns= {\"New Code\":\"area_id\"}, inplace=True)"
   ]
  },
  {
   "cell_type": "markdown",
   "metadata": {},
   "source": [
    "We need to create 11 different indicators + 1 with the food. here is the list :\n",
    "* Housing\n",
    "* Income\n",
    "* Jobs\n",
    "* Community\n",
    "* Education\n",
    "* Environment\n",
    "* Civic Engagement\n",
    "* Health\n",
    "* Life Satisfaction\n",
    "* Safety\n",
    "* Work-Life Balance"
   ]
  },
  {
   "cell_type": "markdown",
   "metadata": {},
   "source": [
    "**Housing**\n",
    "\n",
    "<a class=\"anchor\" id=\"house\"></a>\n",
    "To create our indicators we need our different categories.\n",
    "**Housing** : \n",
    "- need average # of rooms shared per person --> gives an idea of how densly packed living conditions -- here called `people_per_sq_km` and we use a way of measuring what types of housing are in the wards : `detached_house`, `semi_detached_house`, `terraced_house` and `apartment`. We are working under the assumption that a house is larger than an apartment and therefore brings less density. \n",
    "- need an access to an indoor private flushing toilet --> this is not very pertinent to our dataset. \n",
    "- need way of measuring housing expenditure: --> we employ the median house price `median_house_price`\n"
   ]
  },
  {
   "cell_type": "code",
   "execution_count": 310,
   "metadata": {},
   "outputs": [],
   "source": [
    "#we want to create a data set with only the latest data possible (since tesco is 2015) -- we use census data from 2011\n",
    "column_names = [\"area_id\",\"Names\",\n",
    "                \"Median House Price 2014\",\n",
    "                \"Accomodation Type - 2011 Census Whole house or bungalow: Detached\",\n",
    "                \"Accomodation Type - 2011 Census Whole house or bungalow: Semi-detached\",\n",
    "                \"Accomodation Type - 2011 Census Whole house or bungalow: Terraced\",\n",
    "                \"Accomodation Type - 2011 Census Flat, maisonette or apartment\"]\n",
    "housing = pd.DataFrame(data=ward_demographics, \n",
    "                       columns=column_names)\n",
    "\n",
    "housing.rename(columns={\"Median House Price 2014\":\"median_house_price\",\n",
    "                \"Accomodation Type - 2011 Census Whole house or bungalow: Detached\":\"detached_house\",\n",
    "                \"Accomodation Type - 2011 Census Whole house or bungalow: Semi-detached\":\"semi_detached_house\",\n",
    "                \"Accomodation Type - 2011 Census Whole house or bungalow: Terraced\":\"terraced_house\",\n",
    "                \"Accomodation Type - 2011 Census Flat, maisonette or apartment\":\"apartment\"}, inplace=True)"
   ]
  },
  {
   "cell_type": "code",
   "execution_count": 311,
   "metadata": {},
   "outputs": [],
   "source": [
    "housing = housing.merge(ward_tesco, on='area_id', how='inner')"
   ]
  },
  {
   "cell_type": "code",
   "execution_count": 312,
   "metadata": {},
   "outputs": [],
   "source": [
    "#keep only wanted rows\n",
    "column_names = [\"area_id\",\"Names\",\"median_house_price\",\"people_per_sq_km\",\"detached_house\",\"semi_detached_house\",\n",
    "               \"terraced_house\",\"apartment\"]\n",
    "housing = pd.DataFrame(data=housing, columns=column_names)"
   ]
  },
  {
   "cell_type": "code",
   "execution_count": 313,
   "metadata": {},
   "outputs": [],
   "source": [
    "#normalize the data by rescaling\n",
    "housing = normalize(housing, 're_scale',remove_outliers = [True])"
   ]
  },
  {
   "cell_type": "code",
   "execution_count": 314,
   "metadata": {},
   "outputs": [],
   "source": [
    "#we take the complement of certain values if a higher value indicates a negative influence.\n",
    "#i.e a higher value for an unemployment rate indicates a \"bad\" factor. By taking the complement,\n",
    "#we instead measure the employment rate \n",
    "housing[\"people_per_sq_km\"]= 1-housing[\"people_per_sq_km\"]"
   ]
  },
  {
   "cell_type": "code",
   "execution_count": 315,
   "metadata": {},
   "outputs": [
    {
     "data": {
      "text/html": [
       "<div>\n",
       "<style scoped>\n",
       "    .dataframe tbody tr th:only-of-type {\n",
       "        vertical-align: middle;\n",
       "    }\n",
       "\n",
       "    .dataframe tbody tr th {\n",
       "        vertical-align: top;\n",
       "    }\n",
       "\n",
       "    .dataframe thead th {\n",
       "        text-align: right;\n",
       "    }\n",
       "</style>\n",
       "<table border=\"1\" class=\"dataframe\">\n",
       "  <thead>\n",
       "    <tr style=\"text-align: right;\">\n",
       "      <th></th>\n",
       "      <th>area_id</th>\n",
       "      <th>Names</th>\n",
       "      <th>median_house_price</th>\n",
       "      <th>people_per_sq_km</th>\n",
       "      <th>detached_house</th>\n",
       "      <th>semi_detached_house</th>\n",
       "      <th>terraced_house</th>\n",
       "      <th>apartment</th>\n",
       "    </tr>\n",
       "  </thead>\n",
       "  <tbody>\n",
       "    <tr>\n",
       "      <th>0</th>\n",
       "      <td>E05000026</td>\n",
       "      <td>Abbey</td>\n",
       "      <td>0.0</td>\n",
       "      <td>0.434983</td>\n",
       "      <td>0.105019</td>\n",
       "      <td>0.106040</td>\n",
       "      <td>0.356427</td>\n",
       "      <td>0.460527</td>\n",
       "    </tr>\n",
       "    <tr>\n",
       "      <th>1</th>\n",
       "      <td>E05000027</td>\n",
       "      <td>Alibon</td>\n",
       "      <td>0.0</td>\n",
       "      <td>0.628318</td>\n",
       "      <td>0.084301</td>\n",
       "      <td>0.254829</td>\n",
       "      <td>1.000000</td>\n",
       "      <td>0.009179</td>\n",
       "    </tr>\n",
       "    <tr>\n",
       "      <th>2</th>\n",
       "      <td>E05000028</td>\n",
       "      <td>Becontree</td>\n",
       "      <td>0.0</td>\n",
       "      <td>0.472386</td>\n",
       "      <td>0.105019</td>\n",
       "      <td>0.385869</td>\n",
       "      <td>0.869302</td>\n",
       "      <td>0.055207</td>\n",
       "    </tr>\n",
       "  </tbody>\n",
       "</table>\n",
       "</div>"
      ],
      "text/plain": [
       "     area_id      Names  median_house_price  people_per_sq_km  detached_house  \\\n",
       "0  E05000026      Abbey                 0.0          0.434983        0.105019   \n",
       "1  E05000027     Alibon                 0.0          0.628318        0.084301   \n",
       "2  E05000028  Becontree                 0.0          0.472386        0.105019   \n",
       "\n",
       "   semi_detached_house  terraced_house  apartment  \n",
       "0             0.106040        0.356427   0.460527  \n",
       "1             0.254829        1.000000   0.009179  \n",
       "2             0.385869        0.869302   0.055207  "
      ]
     },
     "execution_count": 315,
     "metadata": {},
     "output_type": "execute_result"
    }
   ],
   "source": [
    "housing.head(3)"
   ]
  },
  {
   "cell_type": "markdown",
   "metadata": {},
   "source": [
    "**Income** <a class=\"anchor\" id=\"income\"></a>\n",
    "\n",
    "\n",
    "link here : http://www.oecdbetterlifeindex.org/topics/income/ \n",
    "* income \n",
    "* household net wealth : average total wealth of household assets (savings, stocks) minus liabilites (loans)\n",
    "* household net adjusted disposable income\n",
    "\n",
    "Here we employ the median income of a ward : `median_income` to measure this"
   ]
  },
  {
   "cell_type": "code",
   "execution_count": 316,
   "metadata": {},
   "outputs": [],
   "source": [
    "#code here\n",
    "column_names = ['area_id', \"Median Modelled Household income (£) 2012/13\"]\n",
    "\n",
    "income = pd.DataFrame(data=master_data[\"property\"],columns=column_names)\n",
    "income = income.merge(ward_tesco, on='area_id', how='inner')\n",
    "\n",
    "income = income[column_names]\n",
    "income.rename(columns= {\"Median Modelled Household income (£) 2012/13\":\"median_income\"}, inplace=True)"
   ]
  },
  {
   "cell_type": "code",
   "execution_count": 317,
   "metadata": {},
   "outputs": [],
   "source": [
    "#normalize the data by rescaling\n",
    "income = normalize(income, 're_scale',remove_outliers = [True])"
   ]
  },
  {
   "cell_type": "code",
   "execution_count": 318,
   "metadata": {},
   "outputs": [
    {
     "data": {
      "text/html": [
       "<div>\n",
       "<style scoped>\n",
       "    .dataframe tbody tr th:only-of-type {\n",
       "        vertical-align: middle;\n",
       "    }\n",
       "\n",
       "    .dataframe tbody tr th {\n",
       "        vertical-align: top;\n",
       "    }\n",
       "\n",
       "    .dataframe thead th {\n",
       "        text-align: right;\n",
       "    }\n",
       "</style>\n",
       "<table border=\"1\" class=\"dataframe\">\n",
       "  <thead>\n",
       "    <tr style=\"text-align: right;\">\n",
       "      <th></th>\n",
       "      <th>area_id</th>\n",
       "      <th>median_income</th>\n",
       "    </tr>\n",
       "  </thead>\n",
       "  <tbody>\n",
       "    <tr>\n",
       "      <th>0</th>\n",
       "      <td>E05000026</td>\n",
       "      <td>0.212696</td>\n",
       "    </tr>\n",
       "    <tr>\n",
       "      <th>1</th>\n",
       "      <td>E05000027</td>\n",
       "      <td>0.154969</td>\n",
       "    </tr>\n",
       "    <tr>\n",
       "      <th>2</th>\n",
       "      <td>E05000028</td>\n",
       "      <td>0.176069</td>\n",
       "    </tr>\n",
       "  </tbody>\n",
       "</table>\n",
       "</div>"
      ],
      "text/plain": [
       "     area_id  median_income\n",
       "0  E05000026       0.212696\n",
       "1  E05000027       0.154969\n",
       "2  E05000028       0.176069"
      ]
     },
     "execution_count": 318,
     "metadata": {},
     "output_type": "execute_result"
    }
   ],
   "source": [
    "income.head(3) "
   ]
  },
  {
   "cell_type": "markdown",
   "metadata": {},
   "source": [
    "**Jobs** <a class=\"anchor\" id=\"jobs\"></a>\n",
    "\n",
    "\n",
    "link here : http://www.oecdbetterlifeindex.org/topics/jobs/\n",
    "* job security -- expected loss of earnings when someone becomes unemployed : we use the number of incapacity benefit claimants per year to modelise this (`incapacity_claimants`) as well employment and support allowance (ESA) claimants (`esa_claimants`). ESA gives you: \n",
    "1. money to help with living costs if you’re unable to work\n",
    "2. support to get back into work if you’re able to\n",
    "3. You can apply for ESA if you’re employed, self-employed or unemployed.\n",
    "\n",
    "\n",
    "* personal earnings \n",
    "* long-term unemployment rate (have been actively searching for a job in past 12 months) -- we use JSA claiment rates (`jsa_claimants`), which is short for Jobseekers allowance claim, you are eligible if you are actively seeking a job and are of pensionable age. \n",
    "* employment rate (`employment_rate_16-64`)"
   ]
  },
  {
   "cell_type": "code",
   "execution_count": 319,
   "metadata": {},
   "outputs": [],
   "source": [
    "#code here\n",
    "column_names = ['area_id', \"Employment rate (16-64) 2011\", \"Incapacity Benefit Claimants 2014\",\n",
    "               \"Employment and support allowance claimants 2014\",\n",
    "                \"JSA Claimant Rate 2015\"]\n",
    "jobs = pd.DataFrame(data=master_data[\"property\"],columns=column_names)\n",
    "\n",
    "jobs = jobs.merge(ward_tesco, on='area_id', how='inner')\n",
    "jobs = jobs[column_names]\n",
    "jobs.rename(columns= {\"Employment rate (16-64) 2011\":\"employment_rate_16-64\",\n",
    "                     \"Incapacity Benefit Claimants 2014\":'incapacity__claimants',\n",
    "               \"Employment and support allowance claimants 2014\": \"esa_claimants\",\n",
    "                \"JSA Claimant Rate 2015\": \"jsa_claimants\"}, inplace=True)"
   ]
  },
  {
   "cell_type": "code",
   "execution_count": 320,
   "metadata": {},
   "outputs": [],
   "source": [
    "#normalize the data by rescaling\n",
    "jobs = normalize(jobs, 're_scale',remove_outliers = [True])\n",
    "\n",
    "jobs['jsa_claimants'] = 1 - jobs['jsa_claimants']\n",
    "#we'll see if we do this inverse operation for incapacity and esa claiments\n"
   ]
  },
  {
   "cell_type": "code",
   "execution_count": 321,
   "metadata": {},
   "outputs": [
    {
     "data": {
      "text/html": [
       "<div>\n",
       "<style scoped>\n",
       "    .dataframe tbody tr th:only-of-type {\n",
       "        vertical-align: middle;\n",
       "    }\n",
       "\n",
       "    .dataframe tbody tr th {\n",
       "        vertical-align: top;\n",
       "    }\n",
       "\n",
       "    .dataframe thead th {\n",
       "        text-align: right;\n",
       "    }\n",
       "</style>\n",
       "<table border=\"1\" class=\"dataframe\">\n",
       "  <thead>\n",
       "    <tr style=\"text-align: right;\">\n",
       "      <th></th>\n",
       "      <th>area_id</th>\n",
       "      <th>employment_rate_16-64</th>\n",
       "      <th>incapacity__claimants</th>\n",
       "      <th>esa_claimants</th>\n",
       "      <th>jsa_claimants</th>\n",
       "    </tr>\n",
       "  </thead>\n",
       "  <tbody>\n",
       "    <tr>\n",
       "      <th>0</th>\n",
       "      <td>E05000026</td>\n",
       "      <td>0.179972</td>\n",
       "      <td>0.322581</td>\n",
       "      <td>0.424559</td>\n",
       "      <td>0.250000</td>\n",
       "    </tr>\n",
       "    <tr>\n",
       "      <th>1</th>\n",
       "      <td>E05000027</td>\n",
       "      <td>0.292580</td>\n",
       "      <td>0.580645</td>\n",
       "      <td>0.532589</td>\n",
       "      <td>0.318182</td>\n",
       "    </tr>\n",
       "    <tr>\n",
       "      <th>2</th>\n",
       "      <td>E05000028</td>\n",
       "      <td>0.216167</td>\n",
       "      <td>0.516129</td>\n",
       "      <td>0.597407</td>\n",
       "      <td>0.340909</td>\n",
       "    </tr>\n",
       "  </tbody>\n",
       "</table>\n",
       "</div>"
      ],
      "text/plain": [
       "     area_id  employment_rate_16-64  incapacity__claimants  esa_claimants  \\\n",
       "0  E05000026               0.179972               0.322581       0.424559   \n",
       "1  E05000027               0.292580               0.580645       0.532589   \n",
       "2  E05000028               0.216167               0.516129       0.597407   \n",
       "\n",
       "   jsa_claimants  \n",
       "0       0.250000  \n",
       "1       0.318182  \n",
       "2       0.340909  "
      ]
     },
     "execution_count": 321,
     "metadata": {},
     "output_type": "execute_result"
    }
   ],
   "source": [
    "jobs.head(3)"
   ]
  },
  {
   "cell_type": "markdown",
   "metadata": {},
   "source": [
    "**Community** <a class=\"anchor\" id=\"community\"></a>\n",
    "\n",
    "\n",
    "link here : http://www.oecdbetterlifeindex.org/topics/community/\n",
    "* community\n",
    "* quality of support network -- how much can you rely on friends --> we do not have the data required for this, so instead we are evaluating the richness of community diversity by 3 factors:\n",
    "\n",
    "`diversity_ratio` -- which is a measure of the ethnical diversity in a ward. \n",
    "\n",
    "`religion_ratio` -- which is a measure of the religious diversity in a ward. \n",
    "\n",
    "`no_english_main_language` -- which counts the amount of households who do not have a english-speaker inside it."
   ]
  },
  {
   "cell_type": "code",
   "execution_count": 322,
   "metadata": {},
   "outputs": [],
   "source": [
    "#code here\n",
    "column_names = ['area_id', \"Ethnic Group 5 groups - 2011 Census White\", \"Ethnic Group 5 groups - 2011 Census Mixed\", \n",
    "                \"Ethnic Group 5 groups - 2011 Census Asian or Asian British\", \"Ethnic Group 5 groups - 2011 Census Black or Black British\",\n",
    "               \"Ethnic Group 5 groups - 2011 Census Other\",\n",
    "               \"Household Language - 2011 Census No people in household have English as a main language\",\n",
    "               \"Religion - 2011 Census Christian\",\"Religion - 2011 Census Buddhist\",\"Religion - 2011 Census Hindu\",\n",
    "               \"Religion - 2011 Census Jewish\",\"Religion - 2011 Census Muslim\",\"Religion - 2011 Census Sikh\", \n",
    "               \"Religion - 2011 Census Other religions\",\n",
    "                \"Religion - 2011 Census No religion\"]\n",
    "\n",
    "community = pd.DataFrame(data=master_data[\"demographics\"],columns=column_names)\n",
    "community = community.merge(ward_tesco, on='area_id', how='inner')\n",
    "community = community[column_names]\n",
    "community.rename(columns= {\"Ethnic Group 5 groups - 2011 Census White\":'white', \"Ethnic Group 5 groups - 2011 Census Mixed\":'mixed', \n",
    "                \"Ethnic Group 5 groups - 2011 Census Asian or Asian British\":'asian', \n",
    "                           \"Ethnic Group 5 groups - 2011 Census Black or Black British\":'black',\n",
    "               \"Ethnic Group 5 groups - 2011 Census Other\":'other_ethnic',\n",
    "               \"Household Language - 2011 Census No people in household have English as a main language\":'no_english_main_language',\n",
    "               \"Religion - 2011 Census Christian\":'christian',\"Religion - 2011 Census Buddhist\":'buddhist',\"Religion - 2011 Census Hindu\":'hindu',\n",
    "               \"Religion - 2011 Census Jewish\":'jewish',\"Religion - 2011 Census Muslim\":'muslim',\"Religion - 2011 Census Sikh\":'sikh', \n",
    "               \"Religion - 2011 Census Other religions\":'other',\n",
    "                \"Religion - 2011 Census No religion\":'no_religion'},\n",
    "                 inplace=True)"
   ]
  },
  {
   "cell_type": "markdown",
   "metadata": {},
   "source": [
    "our diversity ratio is defined as white to all other races. Our religious diversity is defined as the christian and no religion stated to all other religions ratio."
   ]
  },
  {
   "cell_type": "code",
   "execution_count": 323,
   "metadata": {},
   "outputs": [],
   "source": [
    "community = community.assign(diversity_ratio = community['white']/\n",
    "                             (community['mixed']+community['asian']+community['black']+community['other_ethnic']))\n",
    "community = community.assign(religion_ratio = (community['christian']+community['no_religion'])/\n",
    "                             (community['buddhist']+community['hindu']+community['jewish']+community['muslim']+\n",
    "                             community['sikh']+community['other']))"
   ]
  },
  {
   "cell_type": "code",
   "execution_count": 324,
   "metadata": {},
   "outputs": [],
   "source": [
    " community = community[['area_id','no_english_main_language','diversity_ratio', 'religion_ratio']]"
   ]
  },
  {
   "cell_type": "code",
   "execution_count": 325,
   "metadata": {},
   "outputs": [],
   "source": [
    "#normalize the data by rescaling\n",
    "community = normalize(community, 're_scale',remove_outliers = [True])\n",
    "\n",
    "community['no_english_main_language'] = 1 - community['no_english_main_language']"
   ]
  },
  {
   "cell_type": "code",
   "execution_count": 326,
   "metadata": {},
   "outputs": [
    {
     "data": {
      "text/html": [
       "<div>\n",
       "<style scoped>\n",
       "    .dataframe tbody tr th:only-of-type {\n",
       "        vertical-align: middle;\n",
       "    }\n",
       "\n",
       "    .dataframe tbody tr th {\n",
       "        vertical-align: top;\n",
       "    }\n",
       "\n",
       "    .dataframe thead th {\n",
       "        text-align: right;\n",
       "    }\n",
       "</style>\n",
       "<table border=\"1\" class=\"dataframe\">\n",
       "  <thead>\n",
       "    <tr style=\"text-align: right;\">\n",
       "      <th></th>\n",
       "      <th>area_id</th>\n",
       "      <th>no_english_main_language</th>\n",
       "      <th>diversity_ratio</th>\n",
       "      <th>religion_ratio</th>\n",
       "    </tr>\n",
       "  </thead>\n",
       "  <tbody>\n",
       "    <tr>\n",
       "      <th>0</th>\n",
       "      <td>E05000026</td>\n",
       "      <td>0.217961</td>\n",
       "      <td>0.017756</td>\n",
       "      <td>0.022245</td>\n",
       "    </tr>\n",
       "    <tr>\n",
       "      <th>1</th>\n",
       "      <td>E05000027</td>\n",
       "      <td>0.835578</td>\n",
       "      <td>0.231626</td>\n",
       "      <td>0.498317</td>\n",
       "    </tr>\n",
       "    <tr>\n",
       "      <th>2</th>\n",
       "      <td>E05000028</td>\n",
       "      <td>0.737908</td>\n",
       "      <td>0.131520</td>\n",
       "      <td>0.165679</td>\n",
       "    </tr>\n",
       "  </tbody>\n",
       "</table>\n",
       "</div>"
      ],
      "text/plain": [
       "     area_id  no_english_main_language  diversity_ratio  religion_ratio\n",
       "0  E05000026                  0.217961         0.017756        0.022245\n",
       "1  E05000027                  0.835578         0.231626        0.498317\n",
       "2  E05000028                  0.737908         0.131520        0.165679"
      ]
     },
     "execution_count": 326,
     "metadata": {},
     "output_type": "execute_result"
    }
   ],
   "source": [
    "community.head(3)"
   ]
  },
  {
   "cell_type": "markdown",
   "metadata": {},
   "source": [
    "**Education** <a class=\"anchor\" id=\"education\"></a>\n",
    "\n",
    "link here : http://www.oecdbetterlifeindex.org/topics/education/\n",
    "* years in education -- modelised by unauthorised absences in school `unauthorised_school_abscence`\n",
    "* student skills -- average performance of student here GCSE `GCSE_score`\n",
    "* education attainment -- percent of people 24- 64 years old having at least an upper-secondary education `higher_education` "
   ]
  },
  {
   "cell_type": "markdown",
   "metadata": {},
   "source": [
    "to obtain the three points we do the following: years in education will be modelised by unauthorised absences in schools, the student skills will be how well the students performed on the GCSEs, and we also add the percent of higher education working people."
   ]
  },
  {
   "cell_type": "code",
   "execution_count": 327,
   "metadata": {},
   "outputs": [],
   "source": [
    "#code here\n",
    "column_names = ['area_id', 'Average GCSE capped point scores 2014','Unauthorised Absence in All Schools (%) 2013',\n",
    "               'Qualifications and Students - 2011 Census % Highest level of qualification: Apprenticeship',\n",
    "               'Qualifications and Students - 2011 Census % Highest level of qualification: Level 3 qualifications',\n",
    "               'Qualifications and Students - 2011 Census % Highest level of qualification: Level 4 qualifications and above']\n",
    "education = pd.DataFrame(data=master_data[\"education\"],columns=[column_names[0],column_names[1], column_names[2]])\n",
    "education_2 = pd.DataFrame(data=master_data[\"property\"], columns=[column_names[0],column_names[3], \n",
    "                                                                  column_names[4], column_names[5]])\n",
    "education = education.merge(education_2, on='area_id', how='inner')\n",
    "education = education.merge(ward_tesco, on='area_id', how='inner')\n",
    "education = education[column_names]\n",
    "education = education.assign(higher_education= education[column_names[3]]+\n",
    "                             education[column_names[4]]+education[column_names[5]])\n",
    "education.rename(columns= {'Average GCSE capped point scores 2014':\"GCSE_score\",\n",
    "                          'Unauthorised Absence in All Schools (%) 2013': 'unauthorised_school_abscence'},\n",
    "                 inplace=True)\n",
    "education.drop(labels=[column_names[3],column_names[4], column_names[5]],axis=1, inplace=True)"
   ]
  },
  {
   "cell_type": "code",
   "execution_count": 328,
   "metadata": {},
   "outputs": [],
   "source": [
    "#normalize the data by rescaling\n",
    "education = normalize(education, 're_scale',remove_outliers = [True])\n",
    "\n",
    "education['unauthorised_school_abscence'] = 1 - education['unauthorised_school_abscence']"
   ]
  },
  {
   "cell_type": "code",
   "execution_count": 329,
   "metadata": {},
   "outputs": [
    {
     "data": {
      "text/html": [
       "<div>\n",
       "<style scoped>\n",
       "    .dataframe tbody tr th:only-of-type {\n",
       "        vertical-align: middle;\n",
       "    }\n",
       "\n",
       "    .dataframe tbody tr th {\n",
       "        vertical-align: top;\n",
       "    }\n",
       "\n",
       "    .dataframe thead th {\n",
       "        text-align: right;\n",
       "    }\n",
       "</style>\n",
       "<table border=\"1\" class=\"dataframe\">\n",
       "  <thead>\n",
       "    <tr style=\"text-align: right;\">\n",
       "      <th></th>\n",
       "      <th>area_id</th>\n",
       "      <th>GCSE_score</th>\n",
       "      <th>unauthorised_school_abscence</th>\n",
       "      <th>higher_education</th>\n",
       "    </tr>\n",
       "  </thead>\n",
       "  <tbody>\n",
       "    <tr>\n",
       "      <th>0</th>\n",
       "      <td>E05000026</td>\n",
       "      <td>0.301296</td>\n",
       "      <td>0.285714</td>\n",
       "      <td>0.333976</td>\n",
       "    </tr>\n",
       "    <tr>\n",
       "      <th>1</th>\n",
       "      <td>E05000027</td>\n",
       "      <td>0.168726</td>\n",
       "      <td>0.214286</td>\n",
       "      <td>0.000000</td>\n",
       "    </tr>\n",
       "    <tr>\n",
       "      <th>2</th>\n",
       "      <td>E05000028</td>\n",
       "      <td>0.024104</td>\n",
       "      <td>0.214286</td>\n",
       "      <td>0.044121</td>\n",
       "    </tr>\n",
       "  </tbody>\n",
       "</table>\n",
       "</div>"
      ],
      "text/plain": [
       "     area_id  GCSE_score  unauthorised_school_abscence  higher_education\n",
       "0  E05000026    0.301296                      0.285714          0.333976\n",
       "1  E05000027    0.168726                      0.214286          0.000000\n",
       "2  E05000028    0.024104                      0.214286          0.044121"
      ]
     },
     "execution_count": 329,
     "metadata": {},
     "output_type": "execute_result"
    }
   ],
   "source": [
    "education.head(3)"
   ]
  },
  {
   "cell_type": "markdown",
   "metadata": {},
   "source": [
    "**Environment** <a class=\"anchor\" id=\"env\"></a>\n",
    "\n",
    "\n",
    "link here: http://www.oecdbetterlifeindex.org/topics/environment/\n",
    "* water quality \n",
    "* air pollution -- measured in PM 2.5\n",
    "* in addition : access to parks and greens \n",
    "\n",
    "Here, we do not have a way of measuring the water quality (from the dataset we found), so we are instead measuring other air pollution factors such as :\n",
    "`PM10_mean` \n",
    "`NO2_mean`\n",
    "\n",
    "additionally, we are assessing the environment quality by observing whether homes have an easy access to nature : `homes_without_access_nature_%` and counting how much of the area in a ward is a greenspace : `area_greenspace` "
   ]
  },
  {
   "cell_type": "code",
   "execution_count": 330,
   "metadata": {},
   "outputs": [],
   "source": [
    "#code here\n",
    "column_names = ['area_id','Annual Mean of Particulate Matter (PM10) 2011','Annual Mean of Nitrogen Dioxide (NO2) 2011', '% area that is greenspace 2014',\n",
    "               '% homes with deficiency in access to nature 2012']\n",
    "\n",
    "environment = pd.DataFrame(data=master_data[\"environment\"],columns=column_names)\n",
    "environment = environment.merge(ward_tesco, on='area_id', how='inner')\n",
    "environment = environment[column_names]\n",
    "\n",
    "\n",
    "environment.rename(columns= {'Annual Mean of Particulate Matter (PM10) 2011':\"PM10_mean\",\n",
    "                          '% area that is greenspace 2014': 'area_greenspace_%',\n",
    "                          '% homes with deficiency in access to nature 2012': 'homes_without_access_nature_%',\n",
    "                            'Annual Mean of Nitrogen Dioxide (NO2) 2011': 'NO2_mean'},\n",
    "                 inplace=True)"
   ]
  },
  {
   "cell_type": "code",
   "execution_count": 331,
   "metadata": {},
   "outputs": [],
   "source": [
    "#normalize the data by rescaling\n",
    "environment = normalize(environment, 're_scale',remove_outliers = [True])\n",
    "\n",
    "environment[\"PM10_mean\"] = 1 - environment[\"PM10_mean\"]\n",
    "environment['NO2_mean'] = 1 - environment['NO2_mean']\n",
    "environment['homes_without_access_nature_%'] = 1 - environment['homes_without_access_nature_%']"
   ]
  },
  {
   "cell_type": "code",
   "execution_count": 332,
   "metadata": {},
   "outputs": [
    {
     "data": {
      "text/html": [
       "<div>\n",
       "<style scoped>\n",
       "    .dataframe tbody tr th:only-of-type {\n",
       "        vertical-align: middle;\n",
       "    }\n",
       "\n",
       "    .dataframe tbody tr th {\n",
       "        vertical-align: top;\n",
       "    }\n",
       "\n",
       "    .dataframe thead th {\n",
       "        text-align: right;\n",
       "    }\n",
       "</style>\n",
       "<table border=\"1\" class=\"dataframe\">\n",
       "  <thead>\n",
       "    <tr style=\"text-align: right;\">\n",
       "      <th></th>\n",
       "      <th>area_id</th>\n",
       "      <th>PM10_mean</th>\n",
       "      <th>NO2_mean</th>\n",
       "      <th>area_greenspace_%</th>\n",
       "      <th>homes_without_access_nature_%</th>\n",
       "    </tr>\n",
       "  </thead>\n",
       "  <tbody>\n",
       "    <tr>\n",
       "      <th>0</th>\n",
       "      <td>E05000026</td>\n",
       "      <td>0.605463</td>\n",
       "      <td>0.550464</td>\n",
       "      <td>0.278775</td>\n",
       "      <td>0.977947</td>\n",
       "    </tr>\n",
       "    <tr>\n",
       "      <th>1</th>\n",
       "      <td>E05000027</td>\n",
       "      <td>0.848255</td>\n",
       "      <td>0.831600</td>\n",
       "      <td>0.259493</td>\n",
       "      <td>0.281275</td>\n",
       "    </tr>\n",
       "    <tr>\n",
       "      <th>2</th>\n",
       "      <td>E05000028</td>\n",
       "      <td>0.817906</td>\n",
       "      <td>0.775373</td>\n",
       "      <td>0.000000</td>\n",
       "      <td>0.827586</td>\n",
       "    </tr>\n",
       "  </tbody>\n",
       "</table>\n",
       "</div>"
      ],
      "text/plain": [
       "     area_id  PM10_mean  NO2_mean  area_greenspace_%  \\\n",
       "0  E05000026   0.605463  0.550464           0.278775   \n",
       "1  E05000027   0.848255  0.831600           0.259493   \n",
       "2  E05000028   0.817906  0.775373           0.000000   \n",
       "\n",
       "   homes_without_access_nature_%  \n",
       "0                       0.977947  \n",
       "1                       0.281275  \n",
       "2                       0.827586  "
      ]
     },
     "execution_count": 332,
     "metadata": {},
     "output_type": "execute_result"
    }
   ],
   "source": [
    "environment.head(3)"
   ]
  },
  {
   "cell_type": "markdown",
   "metadata": {},
   "source": [
    "**Civic Engagement** <a class=\"anchor\" id=\"civic\"></a>\n",
    "\n",
    "\n",
    "link here : http://www.oecdbetterlifeindex.org/topics/civic-engagement/\n",
    "* voter turnout in latest elections -- modelised by `election_turnout`\n",
    "* stakeholder engagement for developing regulations -- might be hard to do\n"
   ]
  },
  {
   "cell_type": "code",
   "execution_count": 333,
   "metadata": {},
   "outputs": [],
   "source": [
    "#code here\n",
    "column_names = ['area_id', 'Turnout Borough election 2014' ]\n",
    "civic = pd.DataFrame(data=master_data[\"environment\"],columns=column_names)\n",
    "civic = civic.merge(ward_tesco, on='area_id', how='inner')\n",
    "civic = civic[column_names]\n",
    "\n",
    "civic.rename(columns={'Turnout Borough election 2014':'election_turnout'}, inplace=True)"
   ]
  },
  {
   "cell_type": "code",
   "execution_count": 334,
   "metadata": {},
   "outputs": [],
   "source": [
    "#normalize the data by rescaling\n",
    "civic = normalize(civic, 're_scale',remove_outliers = [True])"
   ]
  },
  {
   "cell_type": "code",
   "execution_count": 335,
   "metadata": {},
   "outputs": [
    {
     "data": {
      "text/html": [
       "<div>\n",
       "<style scoped>\n",
       "    .dataframe tbody tr th:only-of-type {\n",
       "        vertical-align: middle;\n",
       "    }\n",
       "\n",
       "    .dataframe tbody tr th {\n",
       "        vertical-align: top;\n",
       "    }\n",
       "\n",
       "    .dataframe thead th {\n",
       "        text-align: right;\n",
       "    }\n",
       "</style>\n",
       "<table border=\"1\" class=\"dataframe\">\n",
       "  <thead>\n",
       "    <tr style=\"text-align: right;\">\n",
       "      <th></th>\n",
       "      <th>area_id</th>\n",
       "      <th>election_turnout</th>\n",
       "    </tr>\n",
       "  </thead>\n",
       "  <tbody>\n",
       "    <tr>\n",
       "      <th>0</th>\n",
       "      <td>E05000026</td>\n",
       "      <td>0.359061</td>\n",
       "    </tr>\n",
       "    <tr>\n",
       "      <th>1</th>\n",
       "      <td>E05000027</td>\n",
       "      <td>0.228683</td>\n",
       "    </tr>\n",
       "    <tr>\n",
       "      <th>2</th>\n",
       "      <td>E05000028</td>\n",
       "      <td>0.359061</td>\n",
       "    </tr>\n",
       "  </tbody>\n",
       "</table>\n",
       "</div>"
      ],
      "text/plain": [
       "     area_id  election_turnout\n",
       "0  E05000026          0.359061\n",
       "1  E05000027          0.228683\n",
       "2  E05000028          0.359061"
      ]
     },
     "execution_count": 335,
     "metadata": {},
     "output_type": "execute_result"
    }
   ],
   "source": [
    "civic.head(3)"
   ]
  },
  {
   "cell_type": "markdown",
   "metadata": {},
   "source": [
    "**Health** <a class=\"anchor\" id=\"health\"></a>\n",
    "\n",
    "\n",
    "link here: http://www.oecdbetterlifeindex.org/topics/health/\n",
    "* life expectancy -- modeled by `life_expectancy`\n",
    "* self-reported health (kind of hard) -- modeled by a survey to which people answered if they were in bad health : `people_with_bad_health_percent`"
   ]
  },
  {
   "cell_type": "code",
   "execution_count": 336,
   "metadata": {},
   "outputs": [],
   "source": [
    "#code here\n",
    "column_names = ['area_id', 'Life expectancy at birth (all persons) 2009-2013', \n",
    "                'General Health - 2011 Census % People with Bad or Very Bad Health' ]\n",
    "health = pd.DataFrame(data=master_data[\"demographics\"],columns=[column_names[0],column_names[1]])\n",
    "health_2 = pd.DataFrame(data=master_data[\"environment\"],columns=[column_names[0],column_names[2]])\n",
    "health = health.merge(health_2, on='area_id', how='inner')\n",
    "health = health.merge(ward_tesco, on='area_id', how='inner')\n",
    "health = health[column_names]\n",
    "\n",
    "health.rename(columns={'Life expectancy at birth (all persons) 2009-2013':'life_expectancy',\n",
    "                      'General Health - 2011 Census % People with Bad or Very Bad Health': 'people_with_bad_health_percent'}, \n",
    "              inplace=True)"
   ]
  },
  {
   "cell_type": "code",
   "execution_count": 337,
   "metadata": {},
   "outputs": [],
   "source": [
    "#normalize the data by rescaling\n",
    "health = normalize(health, 're_scale',remove_outliers = [True])\n",
    "\n",
    "health['people_with_bad_health_percent'] = 1- health['people_with_bad_health_percent']"
   ]
  },
  {
   "cell_type": "code",
   "execution_count": 338,
   "metadata": {},
   "outputs": [
    {
     "data": {
      "text/html": [
       "<div>\n",
       "<style scoped>\n",
       "    .dataframe tbody tr th:only-of-type {\n",
       "        vertical-align: middle;\n",
       "    }\n",
       "\n",
       "    .dataframe tbody tr th {\n",
       "        vertical-align: top;\n",
       "    }\n",
       "\n",
       "    .dataframe thead th {\n",
       "        text-align: right;\n",
       "    }\n",
       "</style>\n",
       "<table border=\"1\" class=\"dataframe\">\n",
       "  <thead>\n",
       "    <tr style=\"text-align: right;\">\n",
       "      <th></th>\n",
       "      <th>area_id</th>\n",
       "      <th>life_expectancy</th>\n",
       "      <th>people_with_bad_health_percent</th>\n",
       "    </tr>\n",
       "  </thead>\n",
       "  <tbody>\n",
       "    <tr>\n",
       "      <th>0</th>\n",
       "      <td>E05000026</td>\n",
       "      <td>0.475900</td>\n",
       "      <td>0.645833</td>\n",
       "    </tr>\n",
       "    <tr>\n",
       "      <th>1</th>\n",
       "      <td>E05000027</td>\n",
       "      <td>0.109823</td>\n",
       "      <td>0.145833</td>\n",
       "    </tr>\n",
       "    <tr>\n",
       "      <th>2</th>\n",
       "      <td>E05000028</td>\n",
       "      <td>0.134228</td>\n",
       "      <td>0.083333</td>\n",
       "    </tr>\n",
       "  </tbody>\n",
       "</table>\n",
       "</div>"
      ],
      "text/plain": [
       "     area_id  life_expectancy  people_with_bad_health_percent\n",
       "0  E05000026         0.475900                        0.645833\n",
       "1  E05000027         0.109823                        0.145833\n",
       "2  E05000028         0.134228                        0.083333"
      ]
     },
     "execution_count": 338,
     "metadata": {},
     "output_type": "execute_result"
    }
   ],
   "source": [
    "health.head(3)"
   ]
  },
  {
   "cell_type": "markdown",
   "metadata": {},
   "source": [
    "**Life Satisfaction** <a class=\"anchor\" id=\"satisfaction\"></a>\n",
    "\n",
    "\n",
    "link here: http://www.oecdbetterlifeindex.org/topics/life-satisfaction/\n",
    "* life satisfaction -- how satisfied are you with your life ? -- modelised by the answer to that survey `how_satisfied_are_you_score`"
   ]
  },
  {
   "cell_type": "code",
   "execution_count": 339,
   "metadata": {},
   "outputs": [],
   "source": [
    "#code here\n",
    "column_names = ['area_id','Subjective well-being average score, 2011/12 and 2012/13']\n",
    "life_satisfaction = pd.DataFrame(data=master_data[\"environment\"],columns=column_names)\n",
    "life_satisfaction = life_satisfaction.merge(ward_tesco, on='area_id', how='inner')\n",
    "life_satisfaction = life_satisfaction[column_names]\n",
    "life_satisfaction.rename(columns={'Subjective well-being average score, 2011/12 and 2012/13':'how_satisfied_are_you_score'}, \n",
    "              inplace=True)"
   ]
  },
  {
   "cell_type": "code",
   "execution_count": 340,
   "metadata": {},
   "outputs": [],
   "source": [
    "#normalize the data by rescaling\n",
    "life_satisfaction = normalize(life_satisfaction, 're_scale',remove_outliers = [True])"
   ]
  },
  {
   "cell_type": "code",
   "execution_count": 341,
   "metadata": {},
   "outputs": [
    {
     "data": {
      "text/html": [
       "<div>\n",
       "<style scoped>\n",
       "    .dataframe tbody tr th:only-of-type {\n",
       "        vertical-align: middle;\n",
       "    }\n",
       "\n",
       "    .dataframe tbody tr th {\n",
       "        vertical-align: top;\n",
       "    }\n",
       "\n",
       "    .dataframe thead th {\n",
       "        text-align: right;\n",
       "    }\n",
       "</style>\n",
       "<table border=\"1\" class=\"dataframe\">\n",
       "  <thead>\n",
       "    <tr style=\"text-align: right;\">\n",
       "      <th></th>\n",
       "      <th>area_id</th>\n",
       "      <th>how_satisfied_are_you_score</th>\n",
       "    </tr>\n",
       "  </thead>\n",
       "  <tbody>\n",
       "    <tr>\n",
       "      <th>0</th>\n",
       "      <td>E05000026</td>\n",
       "      <td>0.748954</td>\n",
       "    </tr>\n",
       "    <tr>\n",
       "      <th>1</th>\n",
       "      <td>E05000027</td>\n",
       "      <td>0.330544</td>\n",
       "    </tr>\n",
       "    <tr>\n",
       "      <th>2</th>\n",
       "      <td>E05000028</td>\n",
       "      <td>0.497908</td>\n",
       "    </tr>\n",
       "  </tbody>\n",
       "</table>\n",
       "</div>"
      ],
      "text/plain": [
       "     area_id  how_satisfied_are_you_score\n",
       "0  E05000026                     0.748954\n",
       "1  E05000027                     0.330544\n",
       "2  E05000028                     0.497908"
      ]
     },
     "execution_count": 341,
     "metadata": {},
     "output_type": "execute_result"
    }
   ],
   "source": [
    "life_satisfaction.head(3)"
   ]
  },
  {
   "cell_type": "markdown",
   "metadata": {},
   "source": [
    "**Safety** <a class=\"anchor\" id=\"safety\"></a>\n",
    "\n",
    "\n",
    "link here : http://www.oecdbetterlifeindex.org/topics/safety/\n",
    "* homicide rate\n",
    "* feeling safe walking alone at night (self reported) \n",
    "\n",
    "Here we use a couple of variables to modelise whether one is feeling safe walking alone at night. We include the counts of theft, robbery, burglary, sexual offence, violence against the person and arsenal rate to modelise this. There are found in the following variables:\n",
    "`theft_incidents`\n",
    "`robbery_incidents`\n",
    "`sexual_offences_incidents`\n",
    "`violence_against_person_incidents`\n",
    "`aresenal_incidents`\n",
    "\n",
    "we also use the `crime_rate` to modelise the homicide rate. "
   ]
  },
  {
   "cell_type": "markdown",
   "metadata": {},
   "source": [
    "To answer the question \"do you feel safe walking alone at night\" we keep the above criminal counts as different categories. We will later combine them if it is significant to do so. "
   ]
  },
  {
   "cell_type": "code",
   "execution_count": 342,
   "metadata": {},
   "outputs": [],
   "source": [
    "# code here\n",
    "column_names = ['area_id','Deliberate Fires per 1,000 population 2014', 'Drugs 2014/15', 'Theft and Handling 2014/15',\n",
    "                'Burglary 2014/15', 'Robbery 2014/15', 'Sexual offences 2014/15', 'Violence against the person 2014/15',\n",
    "                'Total crime rate 2014/15']\n",
    "safety = pd.DataFrame(data=master_data[\"crime\"],columns=column_names)\n",
    "safety = safety.merge(ward_tesco, on='area_id', how='inner')\n",
    "safety = safety[column_names]\n",
    "\n",
    "safety.rename(columns={'Deliberate Fires per 1,000 population 2014':'arsenal_incidents',\n",
    "                      'Total crime rate 2014/15':'crime_rate',\n",
    "                      'Drugs 2014/15':'drug_incidents', 'Theft and Handling 2014/15':'theft_incidents',\n",
    "                       'Burglary 2014/15':'burglary_incidents', 'Robbery 2014/15':'robbery_incidents', \n",
    "                       'Sexual offences 2014/15':'sexual_offences_incidents', \n",
    "                       'Violence against the person 2014/15':'violence_against_person_incidents'}, \n",
    "              inplace=True)\n"
   ]
  },
  {
   "cell_type": "code",
   "execution_count": 343,
   "metadata": {},
   "outputs": [],
   "source": [
    "#normalize the data by rescaling\n",
    "safety = normalize(safety, 're_scale',remove_outliers = [True])\n",
    "\n",
    "safety['arsenal_incidents'] = 1- safety['arsenal_incidents']\n",
    "safety['crime_rate'] = 1 - safety['crime_rate'] \n",
    "safety['theft_incidents'] = 1 - safety['theft_incidents']\n",
    "safety['robbery_incidents'] = 1 - safety['robbery_incidents']\n",
    "safety['sexual_offences_incidents'] = 1 - safety['sexual_offences_incidents']\n",
    "safety['violence_against_person_incidents'] = 1 - safety['violence_against_person_incidents']"
   ]
  },
  {
   "cell_type": "code",
   "execution_count": 344,
   "metadata": {},
   "outputs": [
    {
     "data": {
      "text/html": [
       "<div>\n",
       "<style scoped>\n",
       "    .dataframe tbody tr th:only-of-type {\n",
       "        vertical-align: middle;\n",
       "    }\n",
       "\n",
       "    .dataframe tbody tr th {\n",
       "        vertical-align: top;\n",
       "    }\n",
       "\n",
       "    .dataframe thead th {\n",
       "        text-align: right;\n",
       "    }\n",
       "</style>\n",
       "<table border=\"1\" class=\"dataframe\">\n",
       "  <thead>\n",
       "    <tr style=\"text-align: right;\">\n",
       "      <th></th>\n",
       "      <th>area_id</th>\n",
       "      <th>arsenal_incidents</th>\n",
       "      <th>drug_incidents</th>\n",
       "      <th>theft_incidents</th>\n",
       "      <th>burglary_incidents</th>\n",
       "      <th>robbery_incidents</th>\n",
       "      <th>sexual_offences_incidents</th>\n",
       "      <th>violence_against_person_incidents</th>\n",
       "      <th>crime_rate</th>\n",
       "    </tr>\n",
       "  </thead>\n",
       "  <tbody>\n",
       "    <tr>\n",
       "      <th>0</th>\n",
       "      <td>E05000026</td>\n",
       "      <td>0.133333</td>\n",
       "      <td>0.637694</td>\n",
       "      <td>0.509956</td>\n",
       "      <td>0.158582</td>\n",
       "      <td>0.473684</td>\n",
       "      <td>0.138533</td>\n",
       "      <td>0.151468</td>\n",
       "      <td>0.372841</td>\n",
       "    </tr>\n",
       "    <tr>\n",
       "      <th>1</th>\n",
       "      <td>E05000027</td>\n",
       "      <td>0.533333</td>\n",
       "      <td>0.200917</td>\n",
       "      <td>0.936652</td>\n",
       "      <td>0.135887</td>\n",
       "      <td>0.810526</td>\n",
       "      <td>0.557625</td>\n",
       "      <td>0.674364</td>\n",
       "      <td>0.759625</td>\n",
       "    </tr>\n",
       "    <tr>\n",
       "      <th>2</th>\n",
       "      <td>E05000028</td>\n",
       "      <td>0.200000</td>\n",
       "      <td>0.157240</td>\n",
       "      <td>0.881947</td>\n",
       "      <td>0.499007</td>\n",
       "      <td>0.705263</td>\n",
       "      <td>0.557625</td>\n",
       "      <td>0.577299</td>\n",
       "      <td>0.721846</td>\n",
       "    </tr>\n",
       "  </tbody>\n",
       "</table>\n",
       "</div>"
      ],
      "text/plain": [
       "     area_id  arsenal_incidents  drug_incidents  theft_incidents  \\\n",
       "0  E05000026           0.133333        0.637694         0.509956   \n",
       "1  E05000027           0.533333        0.200917         0.936652   \n",
       "2  E05000028           0.200000        0.157240         0.881947   \n",
       "\n",
       "   burglary_incidents  robbery_incidents  sexual_offences_incidents  \\\n",
       "0            0.158582           0.473684                   0.138533   \n",
       "1            0.135887           0.810526                   0.557625   \n",
       "2            0.499007           0.705263                   0.557625   \n",
       "\n",
       "   violence_against_person_incidents  crime_rate  \n",
       "0                           0.151468    0.372841  \n",
       "1                           0.674364    0.759625  \n",
       "2                           0.577299    0.721846  "
      ]
     },
     "execution_count": 344,
     "metadata": {},
     "output_type": "execute_result"
    }
   ],
   "source": [
    "safety.head(3)"
   ]
  },
  {
   "cell_type": "markdown",
   "metadata": {},
   "source": [
    "**Work-Life Balance** <a class=\"anchor\" id=\"balance\"></a>\n",
    "\n",
    "\n",
    "link here : http://www.oecdbetterlifeindex.org/topics/work-life-balance/ \n",
    "* Time devoted to leisure and personal care\n",
    "* employees working long hours \n",
    "\n",
    "We model this by `part_time_employee_percent`"
   ]
  },
  {
   "cell_type": "markdown",
   "metadata": {},
   "source": [
    "Here, we will employ the number of part-time employees. This can be used to model how much less time workers spend at work. "
   ]
  },
  {
   "cell_type": "code",
   "execution_count": 345,
   "metadata": {},
   "outputs": [],
   "source": [
    "#code here\n",
    "column_names = ['area_id', 'Number of Part-time employees 2013', 'Total employees 2013']\n",
    "work_life_balance = pd.DataFrame(data=master_data[\"environment\"],columns=column_names)\n",
    "work_life_balance = work_life_balance.merge(ward_tesco, on='area_id', how='inner')\n",
    "work_life_balance = work_life_balance[column_names]"
   ]
  },
  {
   "cell_type": "code",
   "execution_count": 346,
   "metadata": {},
   "outputs": [],
   "source": [
    "work_life_balance = work_life_balance.assign(part_time_employee_percent = \n",
    "                                             100*work_life_balance[column_names[1]]/work_life_balance[column_names[2]])\n",
    "\n",
    "work_life_balance.drop(labels=[column_names[1],column_names[2]],axis=1, inplace=True)                     "
   ]
  },
  {
   "cell_type": "code",
   "execution_count": 347,
   "metadata": {},
   "outputs": [],
   "source": [
    "#normalize the data by rescaling\n",
    "work_life_balance = normalize(work_life_balance, 're_scale',remove_outliers = [True])"
   ]
  },
  {
   "cell_type": "code",
   "execution_count": 348,
   "metadata": {},
   "outputs": [
    {
     "data": {
      "text/html": [
       "<div>\n",
       "<style scoped>\n",
       "    .dataframe tbody tr th:only-of-type {\n",
       "        vertical-align: middle;\n",
       "    }\n",
       "\n",
       "    .dataframe tbody tr th {\n",
       "        vertical-align: top;\n",
       "    }\n",
       "\n",
       "    .dataframe thead th {\n",
       "        text-align: right;\n",
       "    }\n",
       "</style>\n",
       "<table border=\"1\" class=\"dataframe\">\n",
       "  <thead>\n",
       "    <tr style=\"text-align: right;\">\n",
       "      <th></th>\n",
       "      <th>area_id</th>\n",
       "      <th>part_time_employee_percent</th>\n",
       "    </tr>\n",
       "  </thead>\n",
       "  <tbody>\n",
       "    <tr>\n",
       "      <th>0</th>\n",
       "      <td>E05000026</td>\n",
       "      <td>0.444146</td>\n",
       "    </tr>\n",
       "    <tr>\n",
       "      <th>1</th>\n",
       "      <td>E05000027</td>\n",
       "      <td>1.000000</td>\n",
       "    </tr>\n",
       "    <tr>\n",
       "      <th>2</th>\n",
       "      <td>E05000028</td>\n",
       "      <td>1.000000</td>\n",
       "    </tr>\n",
       "  </tbody>\n",
       "</table>\n",
       "</div>"
      ],
      "text/plain": [
       "     area_id  part_time_employee_percent\n",
       "0  E05000026                    0.444146\n",
       "1  E05000027                    1.000000\n",
       "2  E05000028                    1.000000"
      ]
     },
     "execution_count": 348,
     "metadata": {},
     "output_type": "execute_result"
    }
   ],
   "source": [
    "work_life_balance.head(3)"
   ]
  },
  {
   "cell_type": "markdown",
   "metadata": {},
   "source": [
    "**Food** <a class=\"anchor\" id=\"food\"></a>\n",
    "\n",
    "lastly, we take care of the **food** indicator. We employ the following categories:\n",
    "- the same 8 categories employed in the tesco paper :\n",
    "1. `energy_tot` which corresponds to the total energy obtained on average\n",
    "2. `energy_fat` -- the energy obtained from fat-containing foods\n",
    "3. `energy_sugar` -- the energy obtained from sugar-rich foods\n",
    "4. `energy_saturate` -- the energy obtaiend from saturated fat foods\n",
    "5. `energy_protein` -- the energy obtained from protein-rich foods\n",
    "6. `energy_carb` -- the energy obtained from carb-rich foods\n",
    "7. `energy_fibre` -- the energy obtained from fiber-rich foods\n",
    "8. `h_nutrients_calories_norm` -- the normalised food entropy \n",
    "\n",
    "- the additional categories of f_{category} which corresponds to the fraction of product type {category} purchased. We include : `f_energy_fat`, `f_energy_saturate`, `f_energy_sugar`, `f_energy_protein`, `f_energy_carb`, `f_energy_fibre`, `f_energy_alcohol`"
   ]
  },
  {
   "cell_type": "code",
   "execution_count": 349,
   "metadata": {},
   "outputs": [],
   "source": [
    "column_names = ['area_id','energy_tot','energy_fat','energy_saturate', 'energy_sugar','energy_protein','energy_carb',\n",
    "                'energy_fibre','h_nutrients_calories_norm', 'f_energy_fat', 'f_energy_saturate', 'f_energy_sugar',\n",
    "                'f_energy_protein', 'f_energy_carb', 'f_energy_fibre', 'f_energy_alcohol']\n",
    "\n",
    "foods = pd.DataFrame(data=master_data[\"foods\"],columns=column_names)\n",
    "\n",
    "foods = foods.merge(jobs, on='area_id', how='inner') #to obtain the same size of the other dataframes\n",
    "foods = foods[column_names]"
   ]
  },
  {
   "cell_type": "code",
   "execution_count": 350,
   "metadata": {},
   "outputs": [],
   "source": [
    "#normalize the data by rescaling\n",
    "foods = normalize(foods, 're_scale',remove_outliers = [True])\n",
    "\n",
    "foods['energy_fat'] = 1 - foods['energy_fat']\n",
    "foods['energy_saturate'] = 1 - foods['energy_saturate']\n",
    "foods['energy_sugar'] = 1 - foods['energy_sugar']\n",
    "foods['energy_carb'] = 1-foods['energy_carb']\n",
    "\n",
    "foods['f_energy_fat'] = 1 - foods['f_energy_fat']\n",
    "foods['f_energy_saturate'] = 1 - foods['f_energy_saturate']\n",
    "foods['f_energy_sugar'] = 1 - foods['f_energy_sugar']\n",
    "foods['f_energy_carb'] = foods['f_energy_carb']\n",
    "foods['f_energy_alcohol'] = foods['f_energy_alcohol']\n"
   ]
  },
  {
   "cell_type": "code",
   "execution_count": 351,
   "metadata": {},
   "outputs": [
    {
     "data": {
      "text/html": [
       "<div>\n",
       "<style scoped>\n",
       "    .dataframe tbody tr th:only-of-type {\n",
       "        vertical-align: middle;\n",
       "    }\n",
       "\n",
       "    .dataframe tbody tr th {\n",
       "        vertical-align: top;\n",
       "    }\n",
       "\n",
       "    .dataframe thead th {\n",
       "        text-align: right;\n",
       "    }\n",
       "</style>\n",
       "<table border=\"1\" class=\"dataframe\">\n",
       "  <thead>\n",
       "    <tr style=\"text-align: right;\">\n",
       "      <th></th>\n",
       "      <th>area_id</th>\n",
       "      <th>energy_tot</th>\n",
       "      <th>energy_fat</th>\n",
       "      <th>energy_saturate</th>\n",
       "      <th>energy_sugar</th>\n",
       "      <th>energy_protein</th>\n",
       "      <th>energy_carb</th>\n",
       "      <th>energy_fibre</th>\n",
       "      <th>h_nutrients_calories_norm</th>\n",
       "      <th>f_energy_fat</th>\n",
       "      <th>f_energy_saturate</th>\n",
       "      <th>f_energy_sugar</th>\n",
       "      <th>f_energy_protein</th>\n",
       "      <th>f_energy_carb</th>\n",
       "      <th>f_energy_fibre</th>\n",
       "      <th>f_energy_alcohol</th>\n",
       "    </tr>\n",
       "  </thead>\n",
       "  <tbody>\n",
       "    <tr>\n",
       "      <th>0</th>\n",
       "      <td>E05000026</td>\n",
       "      <td>0.723965</td>\n",
       "      <td>0.232312</td>\n",
       "      <td>0.345773</td>\n",
       "      <td>0.324711</td>\n",
       "      <td>0.284872</td>\n",
       "      <td>0.286711</td>\n",
       "      <td>0.124727</td>\n",
       "      <td>0.108791</td>\n",
       "      <td>0.403865</td>\n",
       "      <td>0.514297</td>\n",
       "      <td>0.399501</td>\n",
       "      <td>0.160333</td>\n",
       "      <td>0.697065</td>\n",
       "      <td>0.087065</td>\n",
       "      <td>0.223237</td>\n",
       "    </tr>\n",
       "    <tr>\n",
       "      <th>1</th>\n",
       "      <td>E05000027</td>\n",
       "      <td>0.777470</td>\n",
       "      <td>0.050601</td>\n",
       "      <td>0.547943</td>\n",
       "      <td>0.463524</td>\n",
       "      <td>0.542319</td>\n",
       "      <td>0.369088</td>\n",
       "      <td>0.177423</td>\n",
       "      <td>0.208612</td>\n",
       "      <td>0.222153</td>\n",
       "      <td>0.786092</td>\n",
       "      <td>0.627273</td>\n",
       "      <td>0.306471</td>\n",
       "      <td>0.505816</td>\n",
       "      <td>0.092341</td>\n",
       "      <td>0.267686</td>\n",
       "    </tr>\n",
       "    <tr>\n",
       "      <th>2</th>\n",
       "      <td>E05000028</td>\n",
       "      <td>0.715080</td>\n",
       "      <td>0.434545</td>\n",
       "      <td>0.472538</td>\n",
       "      <td>0.409495</td>\n",
       "      <td>0.521116</td>\n",
       "      <td>0.233251</td>\n",
       "      <td>0.179997</td>\n",
       "      <td>0.306764</td>\n",
       "      <td>0.688093</td>\n",
       "      <td>0.644890</td>\n",
       "      <td>0.510467</td>\n",
       "      <td>0.329173</td>\n",
       "      <td>0.797397</td>\n",
       "      <td>0.130898</td>\n",
       "      <td>0.345116</td>\n",
       "    </tr>\n",
       "  </tbody>\n",
       "</table>\n",
       "</div>"
      ],
      "text/plain": [
       "     area_id  energy_tot  energy_fat  energy_saturate  energy_sugar  \\\n",
       "0  E05000026    0.723965    0.232312         0.345773      0.324711   \n",
       "1  E05000027    0.777470    0.050601         0.547943      0.463524   \n",
       "2  E05000028    0.715080    0.434545         0.472538      0.409495   \n",
       "\n",
       "   energy_protein  energy_carb  energy_fibre  h_nutrients_calories_norm  \\\n",
       "0        0.284872     0.286711      0.124727                   0.108791   \n",
       "1        0.542319     0.369088      0.177423                   0.208612   \n",
       "2        0.521116     0.233251      0.179997                   0.306764   \n",
       "\n",
       "   f_energy_fat  f_energy_saturate  f_energy_sugar  f_energy_protein  \\\n",
       "0      0.403865           0.514297        0.399501          0.160333   \n",
       "1      0.222153           0.786092        0.627273          0.306471   \n",
       "2      0.688093           0.644890        0.510467          0.329173   \n",
       "\n",
       "   f_energy_carb  f_energy_fibre  f_energy_alcohol  \n",
       "0       0.697065        0.087065          0.223237  \n",
       "1       0.505816        0.092341          0.267686  \n",
       "2       0.797397        0.130898          0.345116  "
      ]
     },
     "execution_count": 351,
     "metadata": {},
     "output_type": "execute_result"
    }
   ],
   "source": [
    "foods.head(3)"
   ]
  },
  {
   "cell_type": "markdown",
   "metadata": {},
   "source": [
    "Now, we store all these indicators in a dictionary to easily access them:"
   ]
  },
  {
   "cell_type": "code",
   "execution_count": 352,
   "metadata": {},
   "outputs": [],
   "source": [
    "meta_data_indicators = {'Housing': housing, 'Income': income, 'Jobs': jobs, 'Community': community,\n",
    "                       'Education': education, 'Environment': environment, 'Civic_Engagement':civic,\n",
    "                       'Health': health, 'Life_Satisfaction': life_satisfaction, 'Safety': safety,\n",
    "                       'Work_Life_Balance': work_life_balance, 'Foods':foods}"
   ]
  },
  {
   "cell_type": "code",
   "execution_count": 353,
   "metadata": {},
   "outputs": [],
   "source": [
    "#Now we need to figure out how to score each indicator "
   ]
  },
  {
   "cell_type": "markdown",
   "metadata": {},
   "source": [
    "# PCA - Principal Component Analysis <a class=\"anchor\" id=\"3-bullet\"></a>"
   ]
  },
  {
   "cell_type": "code",
   "execution_count": 354,
   "metadata": {},
   "outputs": [],
   "source": [
    "import seaborn as sns\n",
    "from functools import reduce\n",
    "import matplotlib.pyplot as plt\n",
    "\n",
    "from sklearn.decomposition import PCA"
   ]
  },
  {
   "cell_type": "markdown",
   "metadata": {},
   "source": [
    "Let's first define a couple of functions that will be very useful\n",
    "\n",
    "First a function to show heatmaps of correlation"
   ]
  },
  {
   "cell_type": "code",
   "execution_count": 355,
   "metadata": {},
   "outputs": [],
   "source": [
    "def correlations_heatmap(df) :\n",
    "    X = df.loc[:, df.columns != 'area_id']\n",
    "    if 'Names' in X.columns:\n",
    "        X = X.loc[:, X.columns != 'Names']\n",
    "    n = X.shape[1]\n",
    "    \n",
    "    fig, ax = plt.subplots(figsize=(n,n))  \n",
    "    sns.heatmap(X.corr(), annot=True, ax=ax, center = 0)\n",
    "    plt.show()"
   ]
  },
  {
   "cell_type": "markdown",
   "metadata": {},
   "source": [
    "Here a function to do principal component analysis (PCA) and then compute the weights of each indicator. This method allows us to see if the indicators are correlated, if they are they should receive a proportionnaly smaller weight, to avoid double counting.\n",
    "The method is based on the approch described by 'Tools for Composite Indicators Building' page 56-57 and initially presented in 'Nicoletti G., Scarpetta S.,Boylaud O. (2000)\n"
   ]
  },
  {
   "cell_type": "code",
   "execution_count": 356,
   "metadata": {},
   "outputs": [],
   "source": [
    "def calculate_weights(df):\n",
    "    \"\"\"The data frame needs to contain an id column called 'area id'. \n",
    "    Approch described by 'Tools for Composite Indicators Building' page 56-57 \n",
    "    initially presented in 'Nicoletti G., Scarpetta S.,Boylaud O. (2000)'\"\"\"\n",
    "    \n",
    "    X = df.loc[:, df.columns != 'area_id']\n",
    "    \n",
    "    if 'Names' in X.columns:\n",
    "        X = X.loc[:, X.columns != 'Names']\n",
    "        \n",
    "    pca = PCA()\n",
    "    X_transformed = pca.fit_transform(X)\n",
    "\n",
    "    eigenvalues = pca.explained_variance_\n",
    "\n",
    "    components = 0\n",
    "    sum_variance = sum(eigenvalues)\n",
    "    cum_variance = 0\n",
    "    for eigenvalue in eigenvalues:    \n",
    "        components+=1\n",
    "        \n",
    "        cum_variance += eigenvalue\n",
    "        print(\"Component cumulative variance: {} %\".format(100*cum_variance/sum_variance))\n",
    "        \n",
    "        if cum_variance/sum_variance > 0.9: #if more than 90% of the variance is explained by current components that's enough\n",
    "            break\n",
    "        \n",
    "    expl_var_array = []\n",
    "    for i in range(components):\n",
    "        expl_var_array.append(sum(pca.components_[i]))\n",
    "    \n",
    "    weights_matrix = [ [ 0 for i in range(components) ] for j in range(X.shape[1]) ]\n",
    "    final_weights = []\n",
    "    for j in range(X.shape[1]):        \n",
    "        for i in range(components):\n",
    "            component = pca.components_[i]\n",
    "            if component[j] < 0: # skip negative weights\n",
    "                continue\n",
    "            weights_matrix[j][i] = component[j]*component[j]/expl_var_array[i]\n",
    "        final_weights.append(max(weights_matrix[j]))\n",
    "    weights_df = pd.DataFrame({'weights':final_weights}, index = X.columns)\n",
    "    return weights_df"
   ]
  },
  {
   "cell_type": "markdown",
   "metadata": {},
   "source": [
    "And finaly we will need a function to apply the weights to the values"
   ]
  },
  {
   "cell_type": "code",
   "execution_count": 357,
   "metadata": {},
   "outputs": [],
   "source": [
    "def calculate_index_for_df(df, weights):\n",
    "    \n",
    "    data = df.loc[:, df.columns != 'area_id']\n",
    "    if 'Names' in data.columns:\n",
    "        data = data.loc[:, data.columns != 'Names']\n",
    "        return df.loc[:,['area_id', 'Names']].assign(index = data.apply(lambda x : sum(x * weights.weights), axis = 1))\n",
    "    return pd.DataFrame({'area_id' : df.area_id, 'index' : data.apply(lambda x : sum(x * weights.weights), axis = 1)})"
   ]
  },
  {
   "cell_type": "markdown",
   "metadata": {},
   "source": [
    "We can now start computing the weights for each category of indicators. Let's start with housing, first we must see if they are correlated at all, if not it doesn't make sens to compute the weights by pca, we would either need to decide ourselves of each weight to give, according to what indicator we deem more important (or simply have equal weights for all of them)"
   ]
  },
  {
   "cell_type": "code",
   "execution_count": 358,
   "metadata": {},
   "outputs": [
    {
     "data": {
      "image/png": "[encoded data removed]",
      "text/plain": [
       "<Figure size 432x432 with 2 Axes>"
      ]
     },
     "metadata": {
      "needs_background": "light"
     },
     "output_type": "display_data"
    }
   ],
   "source": [
    "correlations_heatmap(housing)"
   ]
  },
  {
   "cell_type": "markdown",
   "metadata": {},
   "source": [
    "Avg_rooms per household seems to be not correlated very strongly with any other indicator. remove ? what about area_sq_km ? remove also probably. check p-values ?\n",
    "\n",
    "Before we can compute the weights, we should normalize the data."
   ]
  },
  {
   "cell_type": "code",
   "execution_count": 359,
   "metadata": {
    "scrolled": true
   },
   "outputs": [
    {
     "data": {
      "image/png": "[encoded data removed]",
      "text/plain": [
       "<Figure size 432x432 with 2 Axes>"
      ]
     },
     "metadata": {
      "needs_background": "light"
     },
     "output_type": "display_data"
    }
   ],
   "source": [
    "housing_norm = normalize(housing, 're_scale',remove_outliers = [True]) #changes correlations when removing outliers, same otherwise\n",
    "correlations_heatmap(housing_norm)"
   ]
  },
  {
   "cell_type": "code",
   "execution_count": 360,
   "metadata": {},
   "outputs": [
    {
     "name": "stdout",
     "output_type": "stream",
     "text": [
      "Component cumulative variance: 49.634017546608455 %\n",
      "Component cumulative variance: 73.87165200465195 %\n",
      "Component cumulative variance: 82.73608628923688 %\n",
      "Component cumulative variance: 89.88540840347717 %\n",
      "Component cumulative variance: 95.76291668555548 %\n",
      "                      weights\n",
      "median_house_price   0.503303\n",
      "people_per_sq_km     0.071608\n",
      "detached_house       1.526740\n",
      "semi_detached_house  0.074235\n",
      "terraced_house       0.143441\n",
      "apartment            0.142613\n"
     ]
    },
    {
     "data": {
      "text/html": [
       "<div>\n",
       "<style scoped>\n",
       "    .dataframe tbody tr th:only-of-type {\n",
       "        vertical-align: middle;\n",
       "    }\n",
       "\n",
       "    .dataframe tbody tr th {\n",
       "        vertical-align: top;\n",
       "    }\n",
       "\n",
       "    .dataframe thead th {\n",
       "        text-align: right;\n",
       "    }\n",
       "</style>\n",
       "<table border=\"1\" class=\"dataframe\">\n",
       "  <thead>\n",
       "    <tr style=\"text-align: right;\">\n",
       "      <th></th>\n",
       "      <th>area_id</th>\n",
       "      <th>Names</th>\n",
       "      <th>index</th>\n",
       "    </tr>\n",
       "  </thead>\n",
       "  <tbody>\n",
       "    <tr>\n",
       "      <th>0</th>\n",
       "      <td>E05000026</td>\n",
       "      <td>Abbey</td>\n",
       "      <td>0.316446</td>\n",
       "    </tr>\n",
       "    <tr>\n",
       "      <th>1</th>\n",
       "      <td>E05000027</td>\n",
       "      <td>Alibon</td>\n",
       "      <td>0.337538</td>\n",
       "    </tr>\n",
       "    <tr>\n",
       "      <th>2</th>\n",
       "      <td>E05000028</td>\n",
       "      <td>Becontree</td>\n",
       "      <td>0.355610</td>\n",
       "    </tr>\n",
       "    <tr>\n",
       "      <th>3</th>\n",
       "      <td>E05000029</td>\n",
       "      <td>Chadwell Heath</td>\n",
       "      <td>0.329781</td>\n",
       "    </tr>\n",
       "    <tr>\n",
       "      <th>4</th>\n",
       "      <td>E05000030</td>\n",
       "      <td>Eastbrook</td>\n",
       "      <td>0.318871</td>\n",
       "    </tr>\n",
       "    <tr>\n",
       "      <th>...</th>\n",
       "      <td>...</td>\n",
       "      <td>...</td>\n",
       "      <td>...</td>\n",
       "    </tr>\n",
       "    <tr>\n",
       "      <th>478</th>\n",
       "      <td>E05000645</td>\n",
       "      <td>Tachbrook</td>\n",
       "      <td>0.453363</td>\n",
       "    </tr>\n",
       "    <tr>\n",
       "      <th>479</th>\n",
       "      <td>E05000646</td>\n",
       "      <td>Vincent Square</td>\n",
       "      <td>0.555731</td>\n",
       "    </tr>\n",
       "    <tr>\n",
       "      <th>480</th>\n",
       "      <td>E05000647</td>\n",
       "      <td>Warwick</td>\n",
       "      <td>0.570069</td>\n",
       "    </tr>\n",
       "    <tr>\n",
       "      <th>481</th>\n",
       "      <td>E05000648</td>\n",
       "      <td>Westbourne</td>\n",
       "      <td>0.314175</td>\n",
       "    </tr>\n",
       "    <tr>\n",
       "      <th>482</th>\n",
       "      <td>E05000649</td>\n",
       "      <td>West End</td>\n",
       "      <td>0.711593</td>\n",
       "    </tr>\n",
       "  </tbody>\n",
       "</table>\n",
       "<p>483 rows × 3 columns</p>\n",
       "</div>"
      ],
      "text/plain": [
       "       area_id           Names     index\n",
       "0    E05000026           Abbey  0.316446\n",
       "1    E05000027          Alibon  0.337538\n",
       "2    E05000028       Becontree  0.355610\n",
       "3    E05000029  Chadwell Heath  0.329781\n",
       "4    E05000030       Eastbrook  0.318871\n",
       "..         ...             ...       ...\n",
       "478  E05000645       Tachbrook  0.453363\n",
       "479  E05000646  Vincent Square  0.555731\n",
       "480  E05000647         Warwick  0.570069\n",
       "481  E05000648      Westbourne  0.314175\n",
       "482  E05000649        West End  0.711593\n",
       "\n",
       "[483 rows x 3 columns]"
      ]
     },
     "execution_count": 360,
     "metadata": {},
     "output_type": "execute_result"
    }
   ],
   "source": [
    "housing_weights = calculate_weights(housing_norm)\n",
    "housing_index = calculate_index_for_df(housing_norm,housing_weights )\n",
    "print(housing_weights)\n",
    "housing_index"
   ]
  },
  {
   "cell_type": "markdown",
   "metadata": {},
   "source": [
    "Income, life satisaction, civic and work-life balance are all categories were we only have one sub-indicator, so no need to do any pca analysis, we must normalize them however, as well as the rest of the categories."
   ]
  },
  {
   "cell_type": "code",
   "execution_count": 361,
   "metadata": {},
   "outputs": [],
   "source": [
    "income_norm = normalize(income, 're_scale') \n",
    "life_satisfaction_norm = normalize(life_satisfaction, 're_scale') \n",
    "civic_norm = normalize(civic, 're_scale') \n",
    "work_life_balance_norm = normalize(work_life_balance, 're_scale') \n",
    "community_norm = normalize(community, 're_scale') \n",
    "education_norm = normalize(education, 're_scale') \n",
    "environment_norm = normalize(environment, 're_scale')  \n",
    "health_norm = normalize(health, 're_scale') \n",
    "safety_norm = normalize(safety, 're_scale') "
   ]
  },
  {
   "cell_type": "code",
   "execution_count": 362,
   "metadata": {},
   "outputs": [
    {
     "data": {
      "image/png": "[encoded data removed]",
      "text/plain": [
       "<Figure size 216x216 with 2 Axes>"
      ]
     },
     "metadata": {
      "needs_background": "light"
     },
     "output_type": "display_data"
    },
    {
     "data": {
      "image/png": "[encoded data removed]",
      "text/plain": [
       "<Figure size 216x216 with 2 Axes>"
      ]
     },
     "metadata": {
      "needs_background": "light"
     },
     "output_type": "display_data"
    },
    {
     "data": {
      "image/png": "[encoded data removed]",
      "text/plain": [
       "<Figure size 288x288 with 2 Axes>"
      ]
     },
     "metadata": {
      "needs_background": "light"
     },
     "output_type": "display_data"
    },
    {
     "data": {
      "image/png": "[encoded data removed]",
      "text/plain": [
       "<Figure size 144x144 with 2 Axes>"
      ]
     },
     "metadata": {
      "needs_background": "light"
     },
     "output_type": "display_data"
    },
    {
     "data": {
      "image/png": "[encoded data removed]",
      "text/plain": [
       "<Figure size 576x576 with 2 Axes>"
      ]
     },
     "metadata": {
      "needs_background": "light"
     },
     "output_type": "display_data"
    }
   ],
   "source": [
    "correlations_heatmap(community_norm)\n",
    "correlations_heatmap(education_norm)\n",
    "correlations_heatmap(environment_norm)\n",
    "correlations_heatmap(health_norm)\n",
    "correlations_heatmap(safety_norm)"
   ]
  },
  {
   "cell_type": "code",
   "execution_count": 363,
   "metadata": {},
   "outputs": [
    {
     "name": "stdout",
     "output_type": "stream",
     "text": [
      "Component cumulative variance: 62.626207715556525 %\n",
      "Component cumulative variance: 75.77851914401289 %\n",
      "Component cumulative variance: 85.06551464683547 %\n",
      "Component cumulative variance: 90.48774193200121 %\n"
     ]
    },
    {
     "data": {
      "text/html": [
       "<div>\n",
       "<style scoped>\n",
       "    .dataframe tbody tr th:only-of-type {\n",
       "        vertical-align: middle;\n",
       "    }\n",
       "\n",
       "    .dataframe tbody tr th {\n",
       "        vertical-align: top;\n",
       "    }\n",
       "\n",
       "    .dataframe thead th {\n",
       "        text-align: right;\n",
       "    }\n",
       "</style>\n",
       "<table border=\"1\" class=\"dataframe\">\n",
       "  <thead>\n",
       "    <tr style=\"text-align: right;\">\n",
       "      <th></th>\n",
       "      <th>weights</th>\n",
       "    </tr>\n",
       "  </thead>\n",
       "  <tbody>\n",
       "    <tr>\n",
       "      <th>arsenal_incidents</th>\n",
       "      <td>0</td>\n",
       "    </tr>\n",
       "    <tr>\n",
       "      <th>drug_incidents</th>\n",
       "      <td>0</td>\n",
       "    </tr>\n",
       "    <tr>\n",
       "      <th>theft_incidents</th>\n",
       "      <td>0</td>\n",
       "    </tr>\n",
       "    <tr>\n",
       "      <th>burglary_incidents</th>\n",
       "      <td>0</td>\n",
       "    </tr>\n",
       "    <tr>\n",
       "      <th>robbery_incidents</th>\n",
       "      <td>0</td>\n",
       "    </tr>\n",
       "    <tr>\n",
       "      <th>sexual_offences_incidents</th>\n",
       "      <td>0</td>\n",
       "    </tr>\n",
       "    <tr>\n",
       "      <th>violence_against_person_incidents</th>\n",
       "      <td>0</td>\n",
       "    </tr>\n",
       "    <tr>\n",
       "      <th>crime_rate</th>\n",
       "      <td>0</td>\n",
       "    </tr>\n",
       "  </tbody>\n",
       "</table>\n",
       "</div>"
      ],
      "text/plain": [
       "                                   weights\n",
       "arsenal_incidents                        0\n",
       "drug_incidents                           0\n",
       "theft_incidents                          0\n",
       "burglary_incidents                       0\n",
       "robbery_incidents                        0\n",
       "sexual_offences_incidents                0\n",
       "violence_against_person_incidents        0\n",
       "crime_rate                               0"
      ]
     },
     "execution_count": 363,
     "metadata": {},
     "output_type": "execute_result"
    }
   ],
   "source": [
    "safety_weights = calculate_weights(safety_norm)\n",
    "safety_index = calculate_index_for_df(safety_norm, safety_weights)\n",
    "safety_weights"
   ]
  },
  {
   "cell_type": "code",
   "execution_count": 364,
   "metadata": {},
   "outputs": [],
   "source": [
    "data_frames = meta_data_indicators.values()"
   ]
  },
  {
   "cell_type": "code",
   "execution_count": null,
   "metadata": {},
   "outputs": [],
   "source": []
  },
  {
   "cell_type": "code",
   "execution_count": 78,
   "metadata": {},
   "outputs": [],
   "source": [
    "df_merged = reduce(lambda  left,right: pd.merge(left,right,on=['area_id'], how='outer'), list(data_frames))"
   ]
  },
  {
   "cell_type": "code",
   "execution_count": null,
   "metadata": {},
   "outputs": [],
   "source": []
  },
  {
   "cell_type": "code",
   "execution_count": 89,
   "metadata": {},
   "outputs": [
    {
     "data": {
      "text/plain": [
       "area_id                                      0\n",
       "Names                                        0\n",
       "median_house_price                           0\n",
       "population                                   0\n",
       "area_sq_km_x                                 0\n",
       "people_per_sq_km                             0\n",
       "avg_people_per_household                     0\n",
       "avg_rooms_per_household                      0\n",
       "household_per_sq_km                          0\n",
       "household_density                            0\n",
       "median_income                                0\n",
       "employment_rate_16-64                        0\n",
       "one_year_change_unemployment_claim           0\n",
       "two_year_change_unemployment_claim           0\n",
       "no_english_main_language                     0\n",
       "diversity_ratio                              0\n",
       "english_not_main_language                    0\n",
       "GCSE_score                                   0\n",
       "unauthorised_school_abscence_percent         0\n",
       "percent_higher_education                     0\n",
       "PM10_mean                                    0\n",
       "area_greenspace_percent                      0\n",
       "homes_without_access_nature                  0\n",
       "area_sq_km_y                                 0\n",
       "green_area_sq_km                             0\n",
       "election_turnout_percent                     0\n",
       "life_expectancy                              0\n",
       "people_with_bad_health_percent               0\n",
       "how_satisfied_are_you_score                  0\n",
       "arsenal_incident_per_1000                    0\n",
       "Theft & Handling, Theft From Shops (2014)    0\n",
       "crime_rate_per_1000                          0\n",
       "criminal_acts_tally_per_1000                 0\n",
       "part_time_employee_percent                   0\n",
       "dtype: int64"
      ]
     },
     "execution_count": 89,
     "metadata": {},
     "output_type": "execute_result"
    }
   ],
   "source": [
    "df_merged.isnull().sum()"
   ]
  },
  {
   "cell_type": "code",
   "execution_count": 82,
   "metadata": {},
   "outputs": [],
   "source": [
    "df_merged = df_merged.fillna(df_merged.mean())"
   ]
  },
  {
   "cell_type": "code",
   "execution_count": 166,
   "metadata": {},
   "outputs": [
    {
     "ename": "NameError",
     "evalue": "name 'df_merged' is not defined",
     "output_type": "error",
     "traceback": [
      "\u001b[1;31m---------------------------------------------------------------------------\u001b[0m",
      "\u001b[1;31mNameError\u001b[0m                                 Traceback (most recent call last)",
      "\u001b[1;32m<ipython-input-166-47b3cf03035f>\u001b[0m in \u001b[0;36m<module>\u001b[1;34m\u001b[0m\n\u001b[1;32m----> 1\u001b[1;33m \u001b[0mX\u001b[0m \u001b[1;33m=\u001b[0m \u001b[0mdf_merged\u001b[0m\u001b[1;33m.\u001b[0m\u001b[0mloc\u001b[0m\u001b[1;33m[\u001b[0m\u001b[1;33m:\u001b[0m\u001b[1;33m,\u001b[0m \u001b[0mdf_merged\u001b[0m\u001b[1;33m.\u001b[0m\u001b[0mcolumns\u001b[0m \u001b[1;33m!=\u001b[0m \u001b[1;34m'area_id'\u001b[0m\u001b[1;33m]\u001b[0m\u001b[1;33m\u001b[0m\u001b[1;33m\u001b[0m\u001b[0m\n\u001b[0m\u001b[0;32m      2\u001b[0m \u001b[0mX\u001b[0m \u001b[1;33m=\u001b[0m \u001b[0mX\u001b[0m\u001b[1;33m.\u001b[0m\u001b[0mloc\u001b[0m\u001b[1;33m[\u001b[0m\u001b[1;33m:\u001b[0m\u001b[1;33m,\u001b[0m \u001b[0mX\u001b[0m\u001b[1;33m.\u001b[0m\u001b[0mcolumns\u001b[0m \u001b[1;33m!=\u001b[0m \u001b[1;34m'Names'\u001b[0m\u001b[1;33m]\u001b[0m\u001b[1;33m\u001b[0m\u001b[1;33m\u001b[0m\u001b[0m\n",
      "\u001b[1;31mNameError\u001b[0m: name 'df_merged' is not defined"
     ]
    }
   ],
   "source": [
    "X = df_merged.loc[:, df_merged.columns != 'area_id']\n",
    "X = X.loc[:, X.columns != 'Names']\n"
   ]
  },
  {
   "cell_type": "code",
   "execution_count": null,
   "metadata": {},
   "outputs": [],
   "source": [
    "def pca(df) :\n",
    "    \n",
    "    X = df.loc[:, df.columns != 'area_id']\n",
    "    \n",
    "    if 'Names' in X.columns:\n",
    "        X = X.loc[:, X.columns != 'Names']\n",
    "    \n",
    "    p = PCA()\n",
    "    X_transformed = p.fit_transform(X)\n",
    "\n",
    "    eigenvalues = p.explained_variance_\n",
    "\n",
    "    print(\"Component 1 Values: {}\".format(p.components_[0]))\n",
    "    i = 0\n",
    "    sum_variance = sum(eigenvalues)\n",
    "    cum_variance = 0\n",
    "    for eigenvalue in eigenvalues:    \n",
    "        i+=1\n",
    "        cum_variance += eigenvalue\n",
    "        print(\"Component {} : {} - Cumulative Variance: {} %\".format(i, eigenvalue, 100*cum_variance/sum_variance))"
   ]
  }
 ],
 "metadata": {
  "kernelspec": {
   "display_name": "Python 3",
   "language": "python",
   "name": "python3"
  },
  "language_info": {
   "codemirror_mode": {
    "name": "ipython",
    "version": 3
   },
   "file_extension": ".py",
   "mimetype": "text/x-python",
   "name": "python",
   "nbconvert_exporter": "python",
   "pygments_lexer": "ipython3",
   "version": "3.8.5"
  }
 },
 "nbformat": 4,
 "nbformat_minor": 4
}
